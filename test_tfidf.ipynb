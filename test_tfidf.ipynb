{
 "cells": [
  {
   "cell_type": "code",
   "execution_count": 1,
   "id": "e0a982d5",
   "metadata": {
    "pycharm": {
     "name": "#%%\n"
    }
   },
   "outputs": [],
   "source": [
    "from preprocess import load_model\n",
    "import torch\n",
    "import numpy as np"
   ]
  },
  {
   "cell_type": "code",
   "execution_count": 2,
   "id": "c30c4ec8",
   "metadata": {
    "pycharm": {
     "name": "#%%\n"
    },
    "scrolled": true
   },
   "outputs": [
    {
     "name": "stderr",
     "output_type": "stream",
     "text": [
      "2021-04-12 21:07:42,535 : INFO : loaded corpus index from ./preprocess/model_topk/corpus.mm.index\n",
      "2021-04-12 21:07:42,543 : INFO : initializing cython corpus reader from ./preprocess/model_topk/corpus.mm\n",
      "2021-04-12 21:07:42,547 : INFO : accepted corpus with 120 documents, 3359 features, 8495 non-zero entries\n",
      "2021-04-12 21:07:42,555 : INFO : loading Dictionary object from ./preprocess/model_topk/model.dic\n",
      "2021-04-12 21:07:42,564 : INFO : Dictionary lifecycle event {'fname': './preprocess/model_topk/model.dic', 'datetime': '2021-04-12T21:07:42.563460', 'gensim': '4.0.1', 'python': '3.9.2 (tags/v3.9.2:1a79785, Feb 19 2021, 13:44:55) [MSC v.1928 64 bit (AMD64)]', 'platform': 'Windows-10-10.0.19041-SP0', 'event': 'loaded'}\n",
      "2021-04-12 21:07:42,567 : INFO : loading TfidfModel object from ./preprocess/model_topk/model.tfidf\n",
      "2021-04-12 21:07:42,572 : INFO : TfidfModel lifecycle event {'fname': './preprocess/model_topk/model.tfidf', 'datetime': '2021-04-12T21:07:42.572463', 'gensim': '4.0.1', 'python': '3.9.2 (tags/v3.9.2:1a79785, Feb 19 2021, 13:44:55) [MSC v.1928 64 bit (AMD64)]', 'platform': 'Windows-10-10.0.19041-SP0', 'event': 'loaded'}\n",
      "2021-04-12 21:07:42,575 : INFO : loading LsiModel object from ./preprocess/model_topk/model.lsi\n",
      "2021-04-12 21:07:42,583 : INFO : loading id2word recursively from ./preprocess/model_topk/model.lsi.id2word.* with mmap=None\n",
      "2021-04-12 21:07:42,585 : INFO : setting ignored attribute projection to None\n",
      "2021-04-12 21:07:42,587 : INFO : setting ignored attribute dispatcher to None\n",
      "2021-04-12 21:07:42,589 : INFO : LsiModel lifecycle event {'fname': './preprocess/model_topk/model.lsi', 'datetime': '2021-04-12T21:07:42.588462', 'gensim': '4.0.1', 'python': '3.9.2 (tags/v3.9.2:1a79785, Feb 19 2021, 13:44:55) [MSC v.1928 64 bit (AMD64)]', 'platform': 'Windows-10-10.0.19041-SP0', 'event': 'loaded'}\n",
      "2021-04-12 21:07:42,590 : INFO : loading LsiModel object from ./preprocess/model_topk/model.lsi.projection\n",
      "2021-04-12 21:07:42,594 : INFO : Projection lifecycle event {'fname': './preprocess/model_topk/model.lsi.projection', 'datetime': '2021-04-12T21:07:42.594464', 'gensim': '4.0.1', 'python': '3.9.2 (tags/v3.9.2:1a79785, Feb 19 2021, 13:44:55) [MSC v.1928 64 bit (AMD64)]', 'platform': 'Windows-10-10.0.19041-SP0', 'event': 'loaded'}\n",
      "2021-04-12 21:07:42,595 : INFO : loading MatrixSimilarity object from ./preprocess/model_topk/model.mSimilar\n",
      "2021-04-12 21:07:42,599 : INFO : MatrixSimilarity lifecycle event {'fname': './preprocess/model_topk/model.mSimilar', 'datetime': '2021-04-12T21:07:42.599465', 'gensim': '4.0.1', 'python': '3.9.2 (tags/v3.9.2:1a79785, Feb 19 2021, 13:44:55) [MSC v.1928 64 bit (AMD64)]', 'platform': 'Windows-10-10.0.19041-SP0', 'event': 'loaded'}\n"
     ]
    }
   ],
   "source": [
    "corpus, dictionary, tfidf, lsi, mSimilar = load_model(\"./preprocess/model_topk/\")"
   ]
  },
  {
   "cell_type": "code",
   "execution_count": 3,
   "id": "b7ecee08",
   "metadata": {
    "pycharm": {
     "name": "#%%\n"
    }
   },
   "outputs": [],
   "source": [
    "X = tfidf[corpus]"
   ]
  },
  {
   "cell_type": "code",
   "execution_count": 4,
   "id": "ec80f065",
   "metadata": {
    "pycharm": {
     "name": "#%%\n"
    }
   },
   "outputs": [],
   "source": [
    "vec_tfidf=[]"
   ]
  },
  {
   "cell_type": "code",
   "execution_count": 5,
   "id": "34e355a8",
   "metadata": {},
   "outputs": [],
   "source": [
    "for i in X:\n",
    "    tmp_vec=[0]*len(dictionary)\n",
    "    if len(i)!=0:\n",
    "        for j in i:\n",
    "            tmp_vec[j[0]]=j[1]\n",
    "    vec_tfidf.append(tmp_vec)"
   ]
  },
  {
   "cell_type": "code",
   "execution_count": 6,
   "id": "2d76e4f5",
   "metadata": {},
   "outputs": [],
   "source": [
    "X=np.array(vec_tfidf)"
   ]
  },
  {
   "cell_type": "code",
   "execution_count": 16,
   "id": "9f676894",
   "metadata": {},
   "outputs": [],
   "source": [
    "from sklearn.decomposition import PCA"
   ]
  },
  {
   "cell_type": "code",
   "execution_count": 23,
   "id": "33206e25",
   "metadata": {},
   "outputs": [],
   "source": [
    "vec_tfidf=np.array(vec_tfidf)\n",
    "pca = PCA(n_components=20)\n",
    "pca = pca.fit(vec_tfidf)\n",
    "X = pca.transform(vec_tfidf)"
   ]
  },
  {
   "cell_type": "code",
   "execution_count": 7,
   "id": "02cc86c9",
   "metadata": {
    "pycharm": {
     "name": "#%%\n"
    }
   },
   "outputs": [],
   "source": [
    "if torch.cuda.is_available():\n",
    "    device = torch.device('cuda:0')\n",
    "else:\n",
    "    device = torch.device('cpu')"
   ]
  },
  {
   "cell_type": "code",
   "execution_count": 10,
   "id": "331e102e",
   "metadata": {
    "pycharm": {
     "name": "#%%\n"
    }
   },
   "outputs": [],
   "source": [
    "from file_utils import get_files\n",
    "\n",
    "f_list = get_files(\"./corpus/train_6/\")\n",
    "l = np.array([int(i.split(\"/\")[-1].split(\"-\")[0][1:]) for i in f_list])"
   ]
  },
  {
   "cell_type": "markdown",
   "id": "b227ba00",
   "metadata": {},
   "source": [
    "KMeans结果"
   ]
  },
  {
   "cell_type": "code",
   "execution_count": null,
   "id": "e461b685",
   "metadata": {
    "pycharm": {
     "name": "#%%\n"
    }
   },
   "outputs": [],
   "source": [
    "from training_utils import best_map\n",
    "from kmeans.numpy_kmeans import KMeans\n",
    "\n",
    "max_acc = 0\n",
    "max_i = -1\n",
    "\n",
    "#14\n",
    "for i in range(1000):\n",
    "    kmeans = KMeans(20, random_state=i, device=device)\n",
    "    label, _ = kmeans.fit_predict(X)\n",
    "    acc, _ = best_map(l, label.numpy())\n",
    "    if acc > max_acc:\n",
    "        max_acc = acc\n",
    "        max_i = i\n",
    "    if acc > 0.41:\n",
    "        print(i, acc)\n",
    "print(\"max\", max_i, max_acc)"
   ]
  },
  {
   "cell_type": "code",
   "execution_count": 11,
   "id": "2a13a594",
   "metadata": {
    "pycharm": {
     "name": "#%%\n"
    }
   },
   "outputs": [
    {
     "ename": "AttributeError",
     "evalue": "'numpy.ndarray' object has no attribute 'float'",
     "output_type": "error",
     "traceback": [
      "\u001b[1;31m---------------------------------------------------------------------------\u001b[0m",
      "\u001b[1;31mAttributeError\u001b[0m                            Traceback (most recent call last)",
      "\u001b[1;32m<ipython-input-11-c6c9fbba10bf>\u001b[0m in \u001b[0;36m<module>\u001b[1;34m\u001b[0m\n\u001b[0;32m      5\u001b[0m \u001b[1;33m\u001b[0m\u001b[0m\n\u001b[0;32m      6\u001b[0m \u001b[0mkmeans\u001b[0m \u001b[1;33m=\u001b[0m \u001b[0mKMeans\u001b[0m\u001b[1;33m(\u001b[0m\u001b[1;36m20\u001b[0m\u001b[1;33m,\u001b[0m \u001b[0mrandom_state\u001b[0m\u001b[1;33m=\u001b[0m\u001b[1;36m669\u001b[0m\u001b[1;33m,\u001b[0m \u001b[0mdevice\u001b[0m\u001b[1;33m=\u001b[0m\u001b[0mdevice\u001b[0m\u001b[1;33m)\u001b[0m\u001b[1;33m\u001b[0m\u001b[1;33m\u001b[0m\u001b[0m\n\u001b[1;32m----> 7\u001b[1;33m \u001b[0mlabel\u001b[0m\u001b[1;33m,\u001b[0m \u001b[0m_\u001b[0m \u001b[1;33m=\u001b[0m \u001b[0mkmeans\u001b[0m\u001b[1;33m.\u001b[0m\u001b[0mfit_predict\u001b[0m\u001b[1;33m(\u001b[0m\u001b[0mX\u001b[0m\u001b[1;33m)\u001b[0m\u001b[1;33m\u001b[0m\u001b[1;33m\u001b[0m\u001b[0m\n\u001b[0m\u001b[0;32m      8\u001b[0m \u001b[0macc\u001b[0m\u001b[1;33m,\u001b[0m \u001b[0mlabel_pred\u001b[0m \u001b[1;33m=\u001b[0m \u001b[0mbest_map\u001b[0m\u001b[1;33m(\u001b[0m\u001b[0ml\u001b[0m\u001b[1;33m,\u001b[0m \u001b[0mlabel\u001b[0m\u001b[1;33m.\u001b[0m\u001b[0mnumpy\u001b[0m\u001b[1;33m(\u001b[0m\u001b[1;33m)\u001b[0m\u001b[1;33m)\u001b[0m\u001b[1;33m\u001b[0m\u001b[1;33m\u001b[0m\u001b[0m\n\u001b[0;32m      9\u001b[0m \u001b[0mprint\u001b[0m\u001b[1;33m(\u001b[0m\u001b[1;34m\"准确率:\"\u001b[0m\u001b[1;33m,\u001b[0m \u001b[0macc\u001b[0m\u001b[1;33m)\u001b[0m\u001b[1;33m\u001b[0m\u001b[1;33m\u001b[0m\u001b[0m\n",
      "\u001b[1;32m~\\Desktop\\信息内容安全\\实验\\实验四\\TopicDetection\\kmeans\\numpy_kmeans.py\u001b[0m in \u001b[0;36mfit_predict\u001b[1;34m(self, X)\u001b[0m\n\u001b[0;32m     56\u001b[0m \u001b[1;33m\u001b[0m\u001b[0m\n\u001b[0;32m     57\u001b[0m     \u001b[1;32mdef\u001b[0m \u001b[0mfit_predict\u001b[0m\u001b[1;33m(\u001b[0m\u001b[0mself\u001b[0m\u001b[1;33m,\u001b[0m \u001b[0mX\u001b[0m\u001b[1;33m)\u001b[0m\u001b[1;33m:\u001b[0m\u001b[1;33m\u001b[0m\u001b[1;33m\u001b[0m\u001b[0m\n\u001b[1;32m---> 58\u001b[1;33m         \u001b[0mX\u001b[0m \u001b[1;33m=\u001b[0m \u001b[0mX\u001b[0m\u001b[1;33m.\u001b[0m\u001b[0mfloat\u001b[0m\u001b[1;33m(\u001b[0m\u001b[1;33m)\u001b[0m\u001b[1;33m\u001b[0m\u001b[1;33m\u001b[0m\u001b[0m\n\u001b[0m\u001b[0;32m     59\u001b[0m         \u001b[0mX\u001b[0m \u001b[1;33m=\u001b[0m \u001b[0mX\u001b[0m\u001b[1;33m.\u001b[0m\u001b[0mto\u001b[0m\u001b[1;33m(\u001b[0m\u001b[0mself\u001b[0m\u001b[1;33m.\u001b[0m\u001b[0mdevice\u001b[0m\u001b[1;33m)\u001b[0m\u001b[1;33m\u001b[0m\u001b[1;33m\u001b[0m\u001b[0m\n\u001b[0;32m     60\u001b[0m         \u001b[0mnum_samples\u001b[0m \u001b[1;33m=\u001b[0m \u001b[0mlen\u001b[0m\u001b[1;33m(\u001b[0m\u001b[0mX\u001b[0m\u001b[1;33m)\u001b[0m\u001b[1;33m\u001b[0m\u001b[1;33m\u001b[0m\u001b[0m\n",
      "\u001b[1;31mAttributeError\u001b[0m: 'numpy.ndarray' object has no attribute 'float'"
     ]
    }
   ],
   "source": [
    "# kmeans\n",
    "from kmeans.numpy_kmeans import KMeans\n",
    "from training_utils import best_map\n",
    "from training_utils import scores\n",
    "\n",
    "kmeans = KMeans(20, random_state=669, device=device)\n",
    "label, _ = kmeans.fit_predict(X)\n",
    "acc, label_pred = best_map(l, label.numpy())\n",
    "print(\"准确率:\", acc)\n",
    "scores(l, label_pred)"
   ]
  },
  {
   "cell_type": "code",
   "execution_count": null,
   "id": "1cb8d32e",
   "metadata": {
    "pycharm": {
     "name": "#%%\n"
    }
   },
   "outputs": [],
   "source": [
    "from training_utils import draw\n",
    "\n",
    "draw(X, label)"
   ]
  },
  {
   "cell_type": "markdown",
   "id": "b97a9201",
   "metadata": {},
   "source": [
    "KMeans++结果"
   ]
  },
  {
   "cell_type": "code",
   "execution_count": 19,
   "id": "f510d06e",
   "metadata": {
    "pycharm": {
     "name": "#%%\n"
    }
   },
   "outputs": [
    {
     "name": "stdout",
     "output_type": "stream",
     "text": [
      "1070 0.6166666666666667\n",
      "1896 0.625\n",
      "1917 0.6416666666666667\n",
      "max 1917 0.6416666666666667\n"
     ]
    }
   ],
   "source": [
    "# kmeans++\n",
    "from sklearn.cluster import KMeans\n",
    "from training_utils import best_map\n",
    "\n",
    "max_acc = 0\n",
    "max_i = -1\n",
    "\n",
    "for i in range(1000,2000):\n",
    "    kmeans = KMeans(6, random_state=i)\n",
    "    label = kmeans.fit_predict(X)\n",
    "    acc, _ = best_map(l, label)\n",
    "    if acc > max_acc:\n",
    "        max_acc = acc\n",
    "        max_i = i\n",
    "    if acc > 0.6:\n",
    "        print(i, acc)\n",
    "print(\"max\", max_i, max_acc)"
   ]
  },
  {
   "cell_type": "code",
   "execution_count": 16,
   "id": "542703f1",
   "metadata": {
    "pycharm": {
     "name": "#%%\n"
    }
   },
   "outputs": [
    {
     "name": "stdout",
     "output_type": "stream",
     "text": [
      "[5 3 3 3 3 3 3 3 1 3 3 2 3 3 3 3 3 3 3 0 2 4 2 2 2 0 2 2 0 2 2 0 2 2 1 2 2\n",
      " 2 0 2 2 2 1 5 5 1 5 0 5 5 0 2 1 1 4 5 4 5 4 2 1 2 1 1 1 1 1 4 4 1 2 1 3 4\n",
      " 4 4 4 4 1 1 0 5 4 1 0 1 1 1 1 0 4 4 5 4 3 4 0 4 1 4 5 5 1 1 1 0 0 1 0 0 0\n",
      " 3 2 0 1 0 1 1 4 1]\n",
      "准确率: 0.5083333333333333\n",
      "互信息：0.5705449895571315\n",
      "调整互信息：0.2742202432997683\n",
      "标准化互信息：0.3216323351610385\n",
      "兰德系数： 0.2208324292588291\n"
     ]
    }
   ],
   "source": [
    "from sklearn.cluster import KMeans\n",
    "from training_utils import best_map\n",
    "from training_utils import scores\n",
    "\n",
    "kmeans = KMeans(6, random_state=120,max_iter=500)\n",
    "label = kmeans.fit_predict(X)\n",
    "acc, label_pred = best_map(l, label)\n",
    "print(\"准确率:\", acc)\n",
    "scores(l, label_pred)"
   ]
  },
  {
   "cell_type": "code",
   "execution_count": 14,
   "id": "3ef22ad1",
   "metadata": {
    "pycharm": {
     "name": "#%%\n"
    }
   },
   "outputs": [
    {
     "data": {
      "image/png": "[encoded data removed]",
      "text/plain": [
       "<Figure size 720x360 with 2 Axes>"
      ]
     },
     "metadata": {
      "needs_background": "light"
     },
     "output_type": "display_data"
    }
   ],
   "source": [
    "from training_utils import draw\n",
    "\n",
    "draw(X, label)"
   ]
  },
  {
   "cell_type": "markdown",
   "id": "7b20c446",
   "metadata": {},
   "source": [
    "MiniBatchKmeans结果"
   ]
  },
  {
   "cell_type": "code",
   "execution_count": null,
   "id": "da13ea57",
   "metadata": {
    "pycharm": {
     "name": "#%%\n"
    }
   },
   "outputs": [],
   "source": [
    "# minibatchKmeans\n",
    "from sklearn.cluster import MiniBatchKMeans\n",
    "from training_utils import best_map\n",
    "\n",
    "max_acc = 0\n",
    "max_i = -1\n",
    "for i in range(2000):\n",
    "    kmeans = MiniBatchKMeans(20, random_state=i, batch_size=100)\n",
    "    label = kmeans.fit_predict(X)\n",
    "    acc, _ = best_map(l, label)\n",
    "    if acc > max_acc:\n",
    "        max_acc = acc\n",
    "        max_i = i\n",
    "    if acc > 0.44:\n",
    "        print(i, acc)\n",
    "print(\"max\", max_i, max_acc)"
   ]
  },
  {
   "cell_type": "code",
   "execution_count": 10,
   "id": "0b70aeef",
   "metadata": {
    "pycharm": {
     "name": "#%%\n"
    }
   },
   "outputs": [
    {
     "name": "stdout",
     "output_type": "stream",
     "text": [
      "准确率: 0.2175\n",
      "互信息：0.6928714615421558\n",
      "调整互信息：0.16181575703177525\n",
      "标准化互信息：0.2980993903811825\n",
      "兰德系数： 0.015444015444015444\n"
     ]
    }
   ],
   "source": [
    "from sklearn.cluster import MiniBatchKMeans\n",
    "from training_utils import best_map\n",
    "from training_utils import scores\n",
    "\n",
    "kmeans = MiniBatchKMeans(20, random_state=285, batch_size=100)\n",
    "label = kmeans.fit_predict(X)\n",
    "acc, label_pred = best_map(l, label)\n",
    "print(\"准确率:\", acc)\n",
    "scores(l, label_pred)"
   ]
  },
  {
   "cell_type": "code",
   "execution_count": null,
   "id": "751ce8e0",
   "metadata": {
    "pycharm": {
     "name": "#%%\n"
    }
   },
   "outputs": [],
   "source": [
    "from training_utils import draw\n",
    "\n",
    "draw(X, label)"
   ]
  }
 ],
 "metadata": {
  "kernelspec": {
   "display_name": "PyCharm (TopicDetection)",
   "language": "python",
   "name": "pycharm-ea0bb772"
  },
  "language_info": {
   "codemirror_mode": {
    "name": "ipython",
    "version": 3
   },
   "file_extension": ".py",
   "mimetype": "text/x-python",
   "name": "python",
   "nbconvert_exporter": "python",
   "pygments_lexer": "ipython3",
   "version": "3.9.2"
  }
 },
 "nbformat": 4,
 "nbformat_minor": 5
}
