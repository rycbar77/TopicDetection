{
 "cells": [
  {
   "cell_type": "code",
   "execution_count": 1,
   "id": "5bf90654",
   "metadata": {
    "pycharm": {
     "name": "#%%\n"
    }
   },
   "outputs": [],
   "source": [
    "from kmeans.gensim_kmeans import KMeans\n",
    "from preprocess import load_model\n",
    "from pprint import pprint\n",
    "import torch"
   ]
  },
  {
   "cell_type": "markdown",
   "id": "c51dce35",
   "metadata": {},
   "source": [
    "加载模型，维数为20"
   ]
  },
  {
   "cell_type": "code",
   "execution_count": 2,
   "id": "86339388",
   "metadata": {
    "pycharm": {
     "name": "#%%\n"
    },
    "scrolled": true
   },
   "outputs": [
    {
     "name": "stderr",
     "output_type": "stream",
     "text": [
      "2021-04-12 21:18:59,226 : INFO : loaded corpus index from ./preprocess/model_topk/corpus.mm.index\n",
      "2021-04-12 21:18:59,233 : INFO : initializing cython corpus reader from ./preprocess/model_topk/corpus.mm\n",
      "2021-04-12 21:18:59,236 : INFO : accepted corpus with 120 documents, 3359 features, 8495 non-zero entries\n",
      "2021-04-12 21:18:59,238 : INFO : loading Dictionary object from ./preprocess/model_topk/model.dic\n",
      "2021-04-12 21:18:59,249 : INFO : Dictionary lifecycle event {'fname': './preprocess/model_topk/model.dic', 'datetime': '2021-04-12T21:18:59.247439', 'gensim': '4.0.1', 'python': '3.9.2 (tags/v3.9.2:1a79785, Feb 19 2021, 13:44:55) [MSC v.1928 64 bit (AMD64)]', 'platform': 'Windows-10-10.0.19041-SP0', 'event': 'loaded'}\n",
      "2021-04-12 21:18:59,251 : INFO : loading TfidfModel object from ./preprocess/model_topk/model.tfidf\n",
      "2021-04-12 21:18:59,259 : INFO : TfidfModel lifecycle event {'fname': './preprocess/model_topk/model.tfidf', 'datetime': '2021-04-12T21:18:59.259446', 'gensim': '4.0.1', 'python': '3.9.2 (tags/v3.9.2:1a79785, Feb 19 2021, 13:44:55) [MSC v.1928 64 bit (AMD64)]', 'platform': 'Windows-10-10.0.19041-SP0', 'event': 'loaded'}\n",
      "2021-04-12 21:18:59,262 : INFO : loading LsiModel object from ./preprocess/model_topk/model.lsi\n",
      "2021-04-12 21:18:59,268 : INFO : loading id2word recursively from ./preprocess/model_topk/model.lsi.id2word.* with mmap=None\n",
      "2021-04-12 21:18:59,271 : INFO : setting ignored attribute projection to None\n",
      "2021-04-12 21:18:59,273 : INFO : setting ignored attribute dispatcher to None\n",
      "2021-04-12 21:18:59,275 : INFO : LsiModel lifecycle event {'fname': './preprocess/model_topk/model.lsi', 'datetime': '2021-04-12T21:18:59.275447', 'gensim': '4.0.1', 'python': '3.9.2 (tags/v3.9.2:1a79785, Feb 19 2021, 13:44:55) [MSC v.1928 64 bit (AMD64)]', 'platform': 'Windows-10-10.0.19041-SP0', 'event': 'loaded'}\n",
      "2021-04-12 21:18:59,277 : INFO : loading LsiModel object from ./preprocess/model_topk/model.lsi.projection\n",
      "2021-04-12 21:18:59,282 : INFO : Projection lifecycle event {'fname': './preprocess/model_topk/model.lsi.projection', 'datetime': '2021-04-12T21:18:59.282441', 'gensim': '4.0.1', 'python': '3.9.2 (tags/v3.9.2:1a79785, Feb 19 2021, 13:44:55) [MSC v.1928 64 bit (AMD64)]', 'platform': 'Windows-10-10.0.19041-SP0', 'event': 'loaded'}\n",
      "2021-04-12 21:18:59,287 : INFO : loading MatrixSimilarity object from ./preprocess/model_topk/model.mSimilar\n",
      "2021-04-12 21:18:59,293 : INFO : MatrixSimilarity lifecycle event {'fname': './preprocess/model_topk/model.mSimilar', 'datetime': '2021-04-12T21:18:59.293444', 'gensim': '4.0.1', 'python': '3.9.2 (tags/v3.9.2:1a79785, Feb 19 2021, 13:44:55) [MSC v.1928 64 bit (AMD64)]', 'platform': 'Windows-10-10.0.19041-SP0', 'event': 'loaded'}\n"
     ]
    }
   ],
   "source": [
    "corpus, dictionary, tfidf, lsi, mSimilar = load_model(\"./preprocess/model_topk/\")"
   ]
  },
  {
   "cell_type": "code",
   "execution_count": 3,
   "id": "a98de12b",
   "metadata": {
    "pycharm": {
     "name": "#%%\n"
    }
   },
   "outputs": [],
   "source": [
    "X = lsi[tfidf[corpus]]"
   ]
  },
  {
   "cell_type": "markdown",
   "id": "8e031866",
   "metadata": {},
   "source": [
    "转换成列表，矩阵和Tensor的形式"
   ]
  },
  {
   "cell_type": "code",
   "execution_count": 4,
   "id": "95ae1f80",
   "metadata": {
    "pycharm": {
     "name": "#%%\n"
    }
   },
   "outputs": [],
   "source": [
    "from training_utils import get_list\n",
    "import numpy as np\n",
    "\n",
    "X_list = get_list(X)\n",
    "X_array = np.array(X_list)\n",
    "X_torch = torch.from_numpy(X_array)"
   ]
  },
  {
   "cell_type": "code",
   "execution_count": 5,
   "id": "f0899154",
   "metadata": {
    "pycharm": {
     "name": "#%%\n"
    }
   },
   "outputs": [],
   "source": [
    "import torch\n",
    "\n",
    "if torch.cuda.is_available():\n",
    "    device = torch.device('cuda:0')\n",
    "else:\n",
    "    device = torch.device('cpu')\n"
   ]
  },
  {
   "cell_type": "markdown",
   "id": "5e6b1ea6",
   "metadata": {},
   "source": [
    "加载正确的标签"
   ]
  },
  {
   "cell_type": "code",
   "execution_count": 6,
   "id": "a0e5fec5",
   "metadata": {
    "pycharm": {
     "name": "#%%\n"
    }
   },
   "outputs": [],
   "source": [
    "from file_utils import get_files\n",
    "\n",
    "f_list = get_files(\"./corpus/train_6/\")\n",
    "l = np.array([int(i.split(\"/\")[-1].split(\"-\")[0][1:]) for i in f_list])"
   ]
  },
  {
   "cell_type": "markdown",
   "id": "847a2dfe",
   "metadata": {},
   "source": [
    "使用以下代码尝试寻找最优的`random_state`"
   ]
  },
  {
   "cell_type": "code",
   "execution_count": 9,
   "id": "3592db12",
   "metadata": {
    "pycharm": {
     "name": "#%%\n"
    },
    "scrolled": true
   },
   "outputs": [
    {
     "name": "stdout",
     "output_type": "stream",
     "text": [
      "1009 0.5166666666666667\n",
      "1014 0.5583333333333333\n",
      "1023 0.5166666666666667\n",
      "1044 0.5333333333333333\n",
      "1068 0.525\n",
      "1091 0.5666666666666667\n",
      "1130 0.5083333333333333\n",
      "1133 0.525\n",
      "1135 0.5916666666666667\n",
      "1142 0.5333333333333333\n",
      "1172 0.55\n",
      "1206 0.5166666666666667\n",
      "1212 0.55\n",
      "1228 0.5083333333333333\n",
      "1232 0.5333333333333333\n",
      "1284 0.5333333333333333\n",
      "1285 0.525\n",
      "1293 0.55\n",
      "1296 0.5333333333333333\n",
      "1301 0.5416666666666666\n",
      "1308 0.55\n",
      "1314 0.525\n",
      "1330 0.5083333333333333\n",
      "1333 0.6083333333333333\n",
      "1334 0.5333333333333333\n",
      "1347 0.525\n",
      "1350 0.5333333333333333\n",
      "1355 0.5083333333333333\n",
      "1357 0.5083333333333333\n",
      "1367 0.5166666666666667\n",
      "1373 0.5083333333333333\n",
      "1378 0.5083333333333333\n",
      "1400 0.5166666666666667\n",
      "1414 0.525\n",
      "1417 0.5166666666666667\n",
      "1419 0.525\n",
      "1421 0.5666666666666667\n",
      "1432 0.55\n",
      "1441 0.55\n",
      "1451 0.5333333333333333\n",
      "1452 0.525\n",
      "1481 0.5416666666666666\n",
      "1492 0.525\n",
      "1508 0.5333333333333333\n",
      "1538 0.5083333333333333\n",
      "1545 0.5166666666666667\n",
      "1549 0.55\n",
      "1552 0.5166666666666667\n",
      "1556 0.5083333333333333\n",
      "1610 0.525\n",
      "1624 0.5416666666666666\n",
      "1625 0.5166666666666667\n",
      "1642 0.5166666666666667\n",
      "1649 0.5583333333333333\n",
      "1651 0.5166666666666667\n",
      "1670 0.5166666666666667\n",
      "1693 0.5166666666666667\n",
      "1723 0.525\n",
      "1730 0.5083333333333333\n",
      "1731 0.5083333333333333\n",
      "1733 0.575\n",
      "1742 0.5083333333333333\n",
      "1745 0.5166666666666667\n",
      "1763 0.5166666666666667\n",
      "1779 0.55\n",
      "1782 0.5333333333333333\n",
      "1794 0.5833333333333334\n",
      "1795 0.5083333333333333\n",
      "1799 0.55\n",
      "1840 0.5166666666666667\n",
      "1845 0.5083333333333333\n",
      "1890 0.5083333333333333\n",
      "1901 0.5916666666666667\n",
      "1911 0.5083333333333333\n",
      "1914 0.5166666666666667\n",
      "1917 0.5333333333333333\n",
      "1935 0.5416666666666666\n",
      "1940 0.5333333333333333\n",
      "1956 0.5083333333333333\n",
      "1976 0.5333333333333333\n",
      "1979 0.5333333333333333\n",
      "1988 0.5083333333333333\n",
      "1990 0.5166666666666667\n",
      "max 1333 0.6083333333333333\n"
     ]
    }
   ],
   "source": [
    "from training_utils import best_map\n",
    "\n",
    "max_acc = 0\n",
    "max_i = -1\n",
    "# train 629\n",
    "# test 98\n",
    "for i in range(1000,2000):\n",
    "    kmeans = KMeans(6, random_state=i, device=device)\n",
    "    label, _ = kmeans.fit_predict(X, mSimilar, X_array, X_torch)\n",
    "    acc, _ = best_map(l, label.numpy())\n",
    "    if acc > max_acc:\n",
    "        max_acc = acc\n",
    "        max_i = i\n",
    "    if acc > 0.50:\n",
    "        print(i, acc)\n",
    "print(\"max\", max_i, max_acc)"
   ]
  },
  {
   "cell_type": "markdown",
   "id": "3bfe71e2",
   "metadata": {},
   "source": [
    "在测试集上试验结果，并对结果进行评价\n",
    "各项评价指标，包括**互信息**，**兰德系数**"
   ]
  },
  {
   "cell_type": "code",
   "execution_count": 10,
   "id": "344ab53d",
   "metadata": {
    "pycharm": {
     "name": "#%%\n"
    }
   },
   "outputs": [
    {
     "name": "stdout",
     "output_type": "stream",
     "text": [
      "准确率: 0.6083333333333333\n",
      "互信息：0.7028859601480618\n",
      "调整互信息：0.3615429193810631\n",
      "标准化互信息：0.4046886452513207\n",
      "兰德系数： 0.3009876333588024\n"
     ]
    }
   ],
   "source": [
    "from training_utils import best_map\n",
    "from kmeans.gensim_kmeans import KMeans\n",
    "from training_utils import scores\n",
    "\n",
    "kmeans = KMeans(6, random_state=1333, device=device)\n",
    "label, _ = kmeans.fit_predict(X, mSimilar, X_array, X_torch)\n",
    "acc, label_pred = best_map(l, label.numpy())\n",
    "print(\"准确率:\", acc)\n",
    "scores(l, label_pred)"
   ]
  },
  {
   "cell_type": "code",
   "execution_count": 16,
   "id": "202f4a19",
   "metadata": {
    "pycharm": {
     "name": "#%%\n"
    }
   },
   "outputs": [
    {
     "data": {
      "image/png": "[encoded data removed]",
      "text/plain": [
       "<Figure size 720x360 with 2 Axes>"
      ]
     },
     "metadata": {
      "needs_background": "light"
     },
     "output_type": "display_data"
    }
   ],
   "source": [
    "from training_utils import draw\n",
    "\n",
    "draw(X_array, label)"
   ]
  },
  {
   "cell_type": "code",
   "execution_count": 15,
   "id": "05ebd7c4",
   "metadata": {},
   "outputs": [
    {
     "name": "stdout",
     "output_type": "stream",
     "text": [
      "准确率: 0.375\n",
      "互信息：0.40364827357117217\n",
      "调整互信息：0.1765890833997768\n",
      "标准化互信息：0.2320312049118798\n",
      "兰德系数： 0.11141801426896884\n"
     ]
    }
   ],
   "source": [
    "from training_utils import best_map\n",
    "from kmeans.gensim_kmeans_plus_plus import KMeansPlusPlus\n",
    "from training_utils import scores\n",
    "\n",
    "kmeans = KMeansPlusPlus(6, random_state=3, device=device)\n",
    "label, _ = kmeans.fit_predict(X, mSimilar, X_array, X_torch)\n",
    "acc, label_pred = best_map(l, label.numpy())\n",
    "print(\"准确率:\", acc)\n",
    "scores(l, label_pred)"
   ]
  },
  {
   "cell_type": "code",
   "execution_count": 17,
   "id": "a189482d",
   "metadata": {},
   "outputs": [
    {
     "name": "stdout",
     "output_type": "stream",
     "text": [
      "9 0.475\n",
      "16 0.5166666666666667\n",
      "25 0.475\n",
      "38 0.475\n",
      "47 0.48333333333333334\n",
      "58 0.5083333333333333\n",
      "63 0.5583333333333333\n",
      "83 0.48333333333333334\n",
      "87 0.48333333333333334\n",
      "96 0.5166666666666667\n",
      "99 0.5083333333333333\n",
      "100 0.5083333333333333\n",
      "117 0.475\n",
      "122 0.5833333333333334\n",
      "123 0.5333333333333333\n",
      "127 0.5\n",
      "134 0.525\n",
      "149 0.525\n",
      "152 0.55\n",
      "158 0.49166666666666664\n",
      "159 0.5\n",
      "173 0.5083333333333333\n",
      "188 0.475\n",
      "198 0.49166666666666664\n",
      "216 0.5166666666666667\n",
      "217 0.5166666666666667\n",
      "219 0.49166666666666664\n",
      "240 0.49166666666666664\n",
      "248 0.48333333333333334\n",
      "269 0.48333333333333334\n",
      "272 0.5\n",
      "282 0.5\n",
      "289 0.48333333333333334\n",
      "292 0.475\n",
      "310 0.525\n",
      "348 0.49166666666666664\n",
      "360 0.575\n",
      "377 0.48333333333333334\n",
      "394 0.525\n",
      "399 0.475\n",
      "401 0.49166666666666664\n",
      "405 0.5\n",
      "411 0.475\n",
      "412 0.475\n",
      "417 0.5083333333333333\n",
      "422 0.48333333333333334\n",
      "437 0.48333333333333334\n",
      "441 0.5416666666666666\n",
      "445 0.5\n",
      "465 0.475\n",
      "466 0.5166666666666667\n",
      "495 0.475\n",
      "532 0.5\n",
      "546 0.475\n",
      "566 0.5083333333333333\n",
      "570 0.5166666666666667\n",
      "594 0.49166666666666664\n",
      "598 0.475\n",
      "665 0.48333333333333334\n",
      "673 0.49166666666666664\n",
      "677 0.48333333333333334\n",
      "680 0.49166666666666664\n",
      "695 0.48333333333333334\n",
      "702 0.475\n",
      "716 0.49166666666666664\n",
      "739 0.525\n",
      "770 0.525\n",
      "777 0.5166666666666667\n",
      "779 0.475\n",
      "785 0.5166666666666667\n",
      "800 0.49166666666666664\n",
      "806 0.475\n",
      "815 0.48333333333333334\n",
      "820 0.49166666666666664\n",
      "824 0.48333333333333334\n",
      "825 0.5083333333333333\n",
      "855 0.49166666666666664\n",
      "856 0.48333333333333334\n",
      "865 0.5083333333333333\n",
      "869 0.5166666666666667\n",
      "880 0.5166666666666667\n",
      "889 0.5166666666666667\n",
      "900 0.5083333333333333\n",
      "903 0.49166666666666664\n",
      "912 0.48333333333333334\n",
      "934 0.475\n",
      "942 0.475\n",
      "958 0.5333333333333333\n",
      "969 0.5\n",
      "991 0.5083333333333333\n",
      "994 0.49166666666666664\n",
      "1014 0.475\n",
      "1017 0.475\n",
      "1034 0.49166666666666664\n",
      "1057 0.49166666666666664\n",
      "1058 0.475\n",
      "1077 0.49166666666666664\n",
      "1082 0.5166666666666667\n",
      "1105 0.475\n",
      "1124 0.48333333333333334\n",
      "1134 0.5333333333333333\n",
      "1142 0.48333333333333334\n",
      "1149 0.525\n",
      "1154 0.5083333333333333\n",
      "1163 0.475\n",
      "1207 0.5\n",
      "1212 0.49166666666666664\n",
      "1218 0.5333333333333333\n",
      "1219 0.5416666666666666\n",
      "1221 0.48333333333333334\n",
      "1228 0.475\n",
      "1248 0.475\n",
      "1251 0.48333333333333334\n",
      "1255 0.475\n",
      "1273 0.48333333333333334\n",
      "1281 0.5333333333333333\n",
      "1285 0.48333333333333334\n",
      "1303 0.525\n",
      "1314 0.5416666666666666\n",
      "1319 0.55\n",
      "1326 0.49166666666666664\n",
      "1335 0.48333333333333334\n",
      "1337 0.475\n",
      "1339 0.5333333333333333\n",
      "1348 0.475\n",
      "1352 0.475\n",
      "1372 0.525\n",
      "1391 0.48333333333333334\n",
      "1415 0.49166666666666664\n",
      "1420 0.48333333333333334\n",
      "1422 0.5\n",
      "1425 0.5166666666666667\n",
      "1436 0.5166666666666667\n",
      "1443 0.5\n",
      "1447 0.48333333333333334\n",
      "1448 0.475\n",
      "1449 0.5\n",
      "1454 0.525\n",
      "1458 0.48333333333333334\n",
      "1476 0.48333333333333334\n",
      "1499 0.475\n",
      "1500 0.475\n",
      "1501 0.5416666666666666\n",
      "1537 0.5166666666666667\n",
      "1543 0.49166666666666664\n",
      "1546 0.5583333333333333\n",
      "1562 0.475\n",
      "1571 0.55\n",
      "1572 0.475\n",
      "1579 0.5083333333333333\n",
      "1590 0.475\n",
      "1591 0.5083333333333333\n",
      "1600 0.49166666666666664\n",
      "1606 0.6\n",
      "1613 0.49166666666666664\n",
      "1633 0.5083333333333333\n",
      "1641 0.48333333333333334\n",
      "1644 0.5083333333333333\n",
      "1645 0.5333333333333333\n",
      "1657 0.55\n",
      "1658 0.5166666666666667\n",
      "1671 0.48333333333333334\n",
      "1681 0.49166666666666664\n",
      "1700 0.5083333333333333\n",
      "1725 0.475\n",
      "1741 0.475\n",
      "1755 0.49166666666666664\n",
      "1783 0.475\n",
      "1784 0.475\n",
      "1785 0.49166666666666664\n",
      "1790 0.475\n",
      "1791 0.48333333333333334\n",
      "1792 0.5\n",
      "1796 0.48333333333333334\n",
      "1809 0.475\n",
      "1815 0.48333333333333334\n",
      "1847 0.5083333333333333\n",
      "1852 0.49166666666666664\n",
      "1855 0.475\n",
      "1859 0.48333333333333334\n",
      "1864 0.475\n",
      "1871 0.475\n",
      "1893 0.5083333333333333\n",
      "1896 0.49166666666666664\n",
      "1904 0.48333333333333334\n",
      "1913 0.49166666666666664\n",
      "1940 0.475\n",
      "1946 0.48333333333333334\n",
      "1967 0.5\n",
      "1980 0.475\n",
      "1985 0.49166666666666664\n",
      "1990 0.49166666666666664\n",
      "2006 0.49166666666666664\n",
      "2010 0.5\n",
      "2012 0.5\n",
      "2032 0.5083333333333333\n",
      "2034 0.475\n",
      "2041 0.49166666666666664\n",
      "2050 0.5083333333333333\n",
      "2060 0.49166666666666664\n",
      "2071 0.5\n",
      "2080 0.5083333333333333\n",
      "2088 0.49166666666666664\n",
      "2124 0.48333333333333334\n",
      "2128 0.475\n",
      "2151 0.49166666666666664\n",
      "2166 0.475\n",
      "2173 0.5166666666666667\n",
      "2176 0.49166666666666664\n",
      "2201 0.475\n",
      "2214 0.475\n",
      "2220 0.5083333333333333\n",
      "2229 0.475\n",
      "2260 0.5083333333333333\n",
      "2266 0.48333333333333334\n",
      "2281 0.525\n",
      "2319 0.55\n",
      "2325 0.5166666666666667\n",
      "2359 0.49166666666666664\n",
      "2366 0.5416666666666666\n",
      "2368 0.475\n",
      "2394 0.475\n",
      "2411 0.48333333333333334\n",
      "2421 0.49166666666666664\n",
      "2434 0.475\n",
      "2445 0.5416666666666666\n",
      "2451 0.5\n",
      "2474 0.48333333333333334\n",
      "2476 0.475\n",
      "2488 0.49166666666666664\n",
      "2501 0.475\n",
      "2503 0.5083333333333333\n",
      "2505 0.49166666666666664\n",
      "2511 0.5\n",
      "2517 0.475\n",
      "2527 0.49166666666666664\n",
      "2558 0.5083333333333333\n",
      "2564 0.5\n",
      "2565 0.48333333333333334\n",
      "2583 0.475\n",
      "2592 0.525\n",
      "2598 0.475\n",
      "2606 0.5083333333333333\n",
      "2653 0.5\n",
      "2657 0.475\n",
      "2679 0.48333333333333334\n",
      "2680 0.48333333333333334\n",
      "2708 0.5\n",
      "2734 0.5583333333333333\n",
      "2744 0.5\n",
      "2747 0.5916666666666667\n",
      "2750 0.475\n",
      "2754 0.475\n",
      "2757 0.5083333333333333\n",
      "2798 0.475\n",
      "2802 0.48333333333333334\n",
      "2817 0.475\n",
      "2820 0.48333333333333334\n",
      "2824 0.475\n",
      "2827 0.475\n",
      "2837 0.55\n",
      "2844 0.48333333333333334\n",
      "2846 0.475\n",
      "2850 0.5083333333333333\n",
      "2872 0.49166666666666664\n",
      "2880 0.475\n",
      "2883 0.475\n",
      "2907 0.49166666666666664\n",
      "2928 0.475\n",
      "2978 0.475\n",
      "2990 0.5083333333333333\n",
      "2994 0.5\n",
      "2996 0.48333333333333334\n",
      "max 1606 0.6\n"
     ]
    }
   ],
   "source": [
    "from training_utils import best_map\n",
    "from kmeans.gensim_kmeans_plus_plus import KMeansPlusPlus\n",
    "max_acc = 0\n",
    "max_i = -1\n",
    "# train 629\n",
    "# test 98\n",
    "for i in range(3000):\n",
    "    kmeans = KMeansPlusPlus(6, random_state=i, device=device)\n",
    "    label, _ = kmeans.fit_predict(X, mSimilar, X_array, X_torch)\n",
    "    acc, _ = best_map(l, label.numpy())\n",
    "    if acc > max_acc:\n",
    "        max_acc = acc\n",
    "        max_i = i\n",
    "    if acc > 0.47:\n",
    "        print(i, acc)\n",
    "print(\"max\", max_i, max_acc)"
   ]
  }
 ],
 "metadata": {
  "kernelspec": {
   "display_name": "PyCharm (TopicDetection)",
   "language": "python",
   "name": "pycharm-ea0bb772"
  },
  "language_info": {
   "codemirror_mode": {
    "name": "ipython",
    "version": 3
   },
   "file_extension": ".py",
   "mimetype": "text/x-python",
   "name": "python",
   "nbconvert_exporter": "python",
   "pygments_lexer": "ipython3",
   "version": "3.9.2"
  }
 },
 "nbformat": 4,
 "nbformat_minor": 5
}
