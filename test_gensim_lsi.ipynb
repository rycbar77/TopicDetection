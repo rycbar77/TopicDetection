{
 "cells": [
  {
   "cell_type": "code",
   "execution_count": 1,
   "id": "f2cec135",
   "metadata": {},
   "outputs": [],
   "source": [
    "from preprocess import load_model\n",
    "from pprint import pprint\n",
    "import torch"
   ]
  },
  {
   "cell_type": "code",
   "execution_count": 2,
   "id": "5b68d754",
   "metadata": {
    "scrolled": true
   },
   "outputs": [
    {
     "name": "stderr",
     "output_type": "stream",
     "text": [
      "2021-04-12 14:15:12,201 : INFO : loaded corpus index from ./preprocess/model/corpus.mm.index\n",
      "2021-04-12 14:15:12,217 : INFO : initializing cython corpus reader from ./preprocess/model/corpus.mm\n",
      "2021-04-12 14:15:12,218 : INFO : accepted corpus with 9804 documents, 143834 features, 1735381 non-zero entries\n",
      "2021-04-12 14:15:12,218 : INFO : loading Dictionary object from ./preprocess/model/model.dic\n",
      "2021-04-12 14:15:12,373 : INFO : Dictionary lifecycle event {'fname': './preprocess/model/model.dic', 'datetime': '2021-04-12T14:15:12.373583', 'gensim': '4.0.1', 'python': '3.9.2 (tags/v3.9.2:1a79785, Feb 19 2021, 13:44:55) [MSC v.1928 64 bit (AMD64)]', 'platform': 'Windows-10-10.0.19041-SP0', 'event': 'loaded'}\n",
      "2021-04-12 14:15:12,373 : INFO : loading TfidfModel object from ./preprocess/model/model.tfidf\n",
      "2021-04-12 14:15:12,571 : INFO : TfidfModel lifecycle event {'fname': './preprocess/model/model.tfidf', 'datetime': '2021-04-12T14:15:12.571509', 'gensim': '4.0.1', 'python': '3.9.2 (tags/v3.9.2:1a79785, Feb 19 2021, 13:44:55) [MSC v.1928 64 bit (AMD64)]', 'platform': 'Windows-10-10.0.19041-SP0', 'event': 'loaded'}\n",
      "2021-04-12 14:15:12,571 : INFO : loading LsiModel object from ./preprocess/model/model.lsi\n",
      "2021-04-12 14:15:12,739 : INFO : loading id2word recursively from ./preprocess/model/model.lsi.id2word.* with mmap=None\n",
      "2021-04-12 14:15:12,739 : INFO : setting ignored attribute projection to None\n",
      "2021-04-12 14:15:12,739 : INFO : setting ignored attribute dispatcher to None\n",
      "2021-04-12 14:15:12,739 : INFO : LsiModel lifecycle event {'fname': './preprocess/model/model.lsi', 'datetime': '2021-04-12T14:15:12.739221', 'gensim': '4.0.1', 'python': '3.9.2 (tags/v3.9.2:1a79785, Feb 19 2021, 13:44:55) [MSC v.1928 64 bit (AMD64)]', 'platform': 'Windows-10-10.0.19041-SP0', 'event': 'loaded'}\n",
      "2021-04-12 14:15:12,739 : INFO : loading LsiModel object from ./preprocess/model/model.lsi.projection\n",
      "2021-04-12 14:15:12,762 : INFO : Projection lifecycle event {'fname': './preprocess/model/model.lsi.projection', 'datetime': '2021-04-12T14:15:12.762657', 'gensim': '4.0.1', 'python': '3.9.2 (tags/v3.9.2:1a79785, Feb 19 2021, 13:44:55) [MSC v.1928 64 bit (AMD64)]', 'platform': 'Windows-10-10.0.19041-SP0', 'event': 'loaded'}\n",
      "2021-04-12 14:15:12,762 : INFO : loading MatrixSimilarity object from ./preprocess/model/model.mSimilar\n",
      "2021-04-12 14:15:12,762 : INFO : MatrixSimilarity lifecycle event {'fname': './preprocess/model/model.mSimilar', 'datetime': '2021-04-12T14:15:12.762657', 'gensim': '4.0.1', 'python': '3.9.2 (tags/v3.9.2:1a79785, Feb 19 2021, 13:44:55) [MSC v.1928 64 bit (AMD64)]', 'platform': 'Windows-10-10.0.19041-SP0', 'event': 'loaded'}\n",
      "2021-04-12 14:15:12,780 : INFO : loaded corpus index from ./preprocess/model_test/corpus.mm.index\n",
      "2021-04-12 14:15:12,780 : INFO : initializing cython corpus reader from ./preprocess/model_test/corpus.mm\n",
      "2021-04-12 14:15:12,780 : INFO : accepted corpus with 9832 documents, 143254 features, 1752991 non-zero entries\n",
      "2021-04-12 14:15:12,788 : INFO : loading Dictionary object from ./preprocess/model_test/model.dic\n",
      "2021-04-12 14:15:12,927 : INFO : Dictionary lifecycle event {'fname': './preprocess/model_test/model.dic', 'datetime': '2021-04-12T14:15:12.927379', 'gensim': '4.0.1', 'python': '3.9.2 (tags/v3.9.2:1a79785, Feb 19 2021, 13:44:55) [MSC v.1928 64 bit (AMD64)]', 'platform': 'Windows-10-10.0.19041-SP0', 'event': 'loaded'}\n",
      "2021-04-12 14:15:12,927 : INFO : loading TfidfModel object from ./preprocess/model_test/model.tfidf\n",
      "2021-04-12 14:15:13,056 : INFO : TfidfModel lifecycle event {'fname': './preprocess/model_test/model.tfidf', 'datetime': '2021-04-12T14:15:13.056230', 'gensim': '4.0.1', 'python': '3.9.2 (tags/v3.9.2:1a79785, Feb 19 2021, 13:44:55) [MSC v.1928 64 bit (AMD64)]', 'platform': 'Windows-10-10.0.19041-SP0', 'event': 'loaded'}\n",
      "2021-04-12 14:15:13,056 : INFO : loading LsiModel object from ./preprocess/model_test/model.lsi\n",
      "2021-04-12 14:15:13,214 : INFO : loading id2word recursively from ./preprocess/model_test/model.lsi.id2word.* with mmap=None\n",
      "2021-04-12 14:15:13,214 : INFO : setting ignored attribute projection to None\n",
      "2021-04-12 14:15:13,214 : INFO : setting ignored attribute dispatcher to None\n",
      "2021-04-12 14:15:13,222 : INFO : LsiModel lifecycle event {'fname': './preprocess/model_test/model.lsi', 'datetime': '2021-04-12T14:15:13.222718', 'gensim': '4.0.1', 'python': '3.9.2 (tags/v3.9.2:1a79785, Feb 19 2021, 13:44:55) [MSC v.1928 64 bit (AMD64)]', 'platform': 'Windows-10-10.0.19041-SP0', 'event': 'loaded'}\n",
      "2021-04-12 14:15:13,222 : INFO : loading LsiModel object from ./preprocess/model_test/model.lsi.projection\n",
      "2021-04-12 14:15:13,246 : INFO : Projection lifecycle event {'fname': './preprocess/model_test/model.lsi.projection', 'datetime': '2021-04-12T14:15:13.246714', 'gensim': '4.0.1', 'python': '3.9.2 (tags/v3.9.2:1a79785, Feb 19 2021, 13:44:55) [MSC v.1928 64 bit (AMD64)]', 'platform': 'Windows-10-10.0.19041-SP0', 'event': 'loaded'}\n",
      "2021-04-12 14:15:13,246 : INFO : loading MatrixSimilarity object from ./preprocess/model_test/model.mSimilar\n",
      "2021-04-12 14:15:13,254 : INFO : MatrixSimilarity lifecycle event {'fname': './preprocess/model_test/model.mSimilar', 'datetime': '2021-04-12T14:15:13.254713', 'gensim': '4.0.1', 'python': '3.9.2 (tags/v3.9.2:1a79785, Feb 19 2021, 13:44:55) [MSC v.1928 64 bit (AMD64)]', 'platform': 'Windows-10-10.0.19041-SP0', 'event': 'loaded'}\n"
     ]
    }
   ],
   "source": [
    "corpus_t, dictionary_t, tfidf_t, lsi_t, mSimilar_t = load_model(\"./preprocess/model/\")\n",
    "corpus, dictionary, tfidf, lsi, mSimilar = load_model(\"./preprocess/model_test/\")"
   ]
  },
  {
   "cell_type": "code",
   "execution_count": 4,
   "id": "50e5c478",
   "metadata": {},
   "outputs": [],
   "source": [
    "X = lsi[tfidf[corpus]]\n",
    "X_t = lsi_t[tfidf_t[corpus_t]]"
   ]
  },
  {
   "cell_type": "code",
   "execution_count": 16,
   "id": "96372cd0",
   "metadata": {},
   "outputs": [],
   "source": [
    "from file_utils import get_files\n",
    "import numpy as np\n",
    "f_list = get_files(\"./corpus/test/\")\n",
    "l = np.array([int(i.split(\"\\\\\")[-1].split(\"-\")[0][1:]) for i in f_list])\n",
    "f_list = get_files(\"./corpus/train/\")\n",
    "l_t = np.array([int(i.split(\"\\\\\")[-1].split(\"-\")[0][1:]) for i in f_list])"
   ]
  },
  {
   "cell_type": "code",
   "execution_count": 18,
   "id": "c15db301",
   "metadata": {},
   "outputs": [],
   "source": [
    "topic=[]\n",
    "for i in X:\n",
    "    sims = sorted(i, key=lambda item: -item[1])\n",
    "    if len(sims)!=20:\n",
    "        topic.append(0)\n",
    "    else:\n",
    "        topic.append(sims[0][0])"
   ]
  },
  {
   "cell_type": "code",
   "execution_count": 19,
   "id": "ab54116b",
   "metadata": {
    "scrolled": false
   },
   "outputs": [
    {
     "name": "stdout",
     "output_type": "stream",
     "text": [
      "准确率: 0.3786615134255492\n",
      "互信息：0.9180784586343538\n",
      "调整互信息：0.3738308814049602\n",
      "标准化互信息：0.37829071397540837\n",
      "兰德系数： 0.24217245465520296\n"
     ]
    }
   ],
   "source": [
    "from training_utils import best_map\n",
    "from training_utils import scores\n",
    "topic=np.array(topic)\n",
    "acc, label_pred = best_map(l, topic)\n",
    "print(\"准确率:\", acc)\n",
    "scores(l, label_pred)"
   ]
  },
  {
   "cell_type": "markdown",
   "id": "3a52dd99",
   "metadata": {},
   "source": [
    "topic=[]\n",
    "for i in X_t:\n",
    "    sims = sorted(i, key=lambda item: -item[1])\n",
    "    if len(sims)!=20:\n",
    "        topic.append(0)\n",
    "    else:\n",
    "        topic.append(sims[0][0])"
   ]
  },
  {
   "cell_type": "code",
   "execution_count": 22,
   "id": "48ddc65f",
   "metadata": {},
   "outputs": [
    {
     "name": "stdout",
     "output_type": "stream",
     "text": [
      "准确率: 0.3339453284373725\n",
      "互信息：0.8354171883544073\n",
      "调整互信息：0.3501499452614229\n",
      "标准化互信息：0.3550552685386004\n",
      "兰德系数： 0.19998705289705265\n"
     ]
    }
   ],
   "source": [
    "from training_utils import best_map\n",
    "from training_utils import scores\n",
    "topic=np.array(topic)\n",
    "acc, label_pred = best_map(l_t, topic)\n",
    "print(\"准确率:\", acc)\n",
    "scores(l_t, label_pred)"
   ]
  }
 ],
 "metadata": {
  "kernelspec": {
   "display_name": "PyCharm (TopicDetection)",
   "language": "python",
   "name": "pycharm-ea0bb772"
  },
  "language_info": {
   "codemirror_mode": {
    "name": "ipython",
    "version": 3
   },
   "file_extension": ".py",
   "mimetype": "text/x-python",
   "name": "python",
   "nbconvert_exporter": "python",
   "pygments_lexer": "ipython3",
   "version": "3.9.2"
  }
 },
 "nbformat": 4,
 "nbformat_minor": 5
}
