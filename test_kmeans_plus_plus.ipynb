{
 "cells": [
  {
   "cell_type": "code",
   "execution_count": 1,
   "metadata": {
    "collapsed": true
   },
   "outputs": [],
   "source": [
    "from random import random\n",
    "\n",
    "import numpy as np\n",
    "import torch\n",
    "from kmeans.gensim_kmeans_plus_plus import KMeansPlusPlus"
   ]
  },
  {
   "cell_type": "code",
   "execution_count": 2,
   "outputs": [],
   "source": [
    "import torch\n",
    "\n",
    "if torch.cuda.is_available():\n",
    "    device = torch.device('cuda:0')\n",
    "else:\n",
    "    device = torch.device('cpu')\n"
   ],
   "metadata": {
    "collapsed": false,
    "pycharm": {
     "name": "#%%\n"
    }
   }
  },
  {
   "cell_type": "code",
   "execution_count": 3,
   "outputs": [
    {
     "name": "stderr",
     "output_type": "stream",
     "text": [
      "2021-04-09 20:34:08,536 : INFO : loaded corpus index from ./preprocess/model_test/corpus.mm.index\n",
      "2021-04-09 20:34:08,552 : INFO : initializing cython corpus reader from ./preprocess/model_test/corpus.mm\n",
      "2021-04-09 20:34:08,552 : INFO : accepted corpus with 9832 documents, 255193 features, 7002755 non-zero entries\n",
      "2021-04-09 20:34:08,552 : INFO : loading Dictionary object from ./preprocess/model_test/model.dic\n",
      "2021-04-09 20:34:08,723 : INFO : Dictionary lifecycle event {'fname': './preprocess/model_test/model.dic', 'datetime': '2021-04-09T20:34:08.723892', 'gensim': '4.0.1', 'python': '3.9.2 (tags/v3.9.2:1a79785, Feb 19 2021, 13:44:55) [MSC v.1928 64 bit (AMD64)]', 'platform': 'Windows-10-10.0.19041-SP0', 'event': 'loaded'}\n",
      "2021-04-09 20:34:08,723 : INFO : loading TfidfModel object from ./preprocess/model_test/model.tfidf\n",
      "2021-04-09 20:34:08,913 : INFO : TfidfModel lifecycle event {'fname': './preprocess/model_test/model.tfidf', 'datetime': '2021-04-09T20:34:08.913835', 'gensim': '4.0.1', 'python': '3.9.2 (tags/v3.9.2:1a79785, Feb 19 2021, 13:44:55) [MSC v.1928 64 bit (AMD64)]', 'platform': 'Windows-10-10.0.19041-SP0', 'event': 'loaded'}\n",
      "2021-04-09 20:34:08,929 : INFO : loading LsiModel object from ./preprocess/model_test/model.lsi\n",
      "2021-04-09 20:34:09,101 : INFO : loading id2word recursively from ./preprocess/model_test/model.lsi.id2word.* with mmap=None\n",
      "2021-04-09 20:34:09,101 : INFO : setting ignored attribute projection to None\n",
      "2021-04-09 20:34:09,101 : INFO : setting ignored attribute dispatcher to None\n",
      "2021-04-09 20:34:09,101 : INFO : LsiModel lifecycle event {'fname': './preprocess/model_test/model.lsi', 'datetime': '2021-04-09T20:34:09.101337', 'gensim': '4.0.1', 'python': '3.9.2 (tags/v3.9.2:1a79785, Feb 19 2021, 13:44:55) [MSC v.1928 64 bit (AMD64)]', 'platform': 'Windows-10-10.0.19041-SP0', 'event': 'loaded'}\n",
      "2021-04-09 20:34:09,101 : INFO : loading LsiModel object from ./preprocess/model_test/model.lsi.projection\n",
      "2021-04-09 20:34:09,116 : INFO : Projection lifecycle event {'fname': './preprocess/model_test/model.lsi.projection', 'datetime': '2021-04-09T20:34:09.116959', 'gensim': '4.0.1', 'python': '3.9.2 (tags/v3.9.2:1a79785, Feb 19 2021, 13:44:55) [MSC v.1928 64 bit (AMD64)]', 'platform': 'Windows-10-10.0.19041-SP0', 'event': 'loaded'}\n",
      "2021-04-09 20:34:09,116 : INFO : loading MatrixSimilarity object from ./preprocess/model_test/model.mSimilar\n",
      "2021-04-09 20:34:09,116 : INFO : MatrixSimilarity lifecycle event {'fname': './preprocess/model_test/model.mSimilar', 'datetime': '2021-04-09T20:34:09.116959', 'gensim': '4.0.1', 'python': '3.9.2 (tags/v3.9.2:1a79785, Feb 19 2021, 13:44:55) [MSC v.1928 64 bit (AMD64)]', 'platform': 'Windows-10-10.0.19041-SP0', 'event': 'loaded'}\n",
      "2021-04-09 20:34:09,116 : INFO : loaded corpus index from ./preprocess/model/corpus.mm.index\n",
      "2021-04-09 20:34:09,116 : INFO : initializing cython corpus reader from ./preprocess/model/corpus.mm\n",
      "2021-04-09 20:34:09,132 : INFO : accepted corpus with 9804 documents, 255478 features, 6928768 non-zero entries\n",
      "2021-04-09 20:34:09,133 : INFO : loading Dictionary object from ./preprocess/model/model.dic\n",
      "2021-04-09 20:34:09,286 : INFO : Dictionary lifecycle event {'fname': './preprocess/model/model.dic', 'datetime': '2021-04-09T20:34:09.286094', 'gensim': '4.0.1', 'python': '3.9.2 (tags/v3.9.2:1a79785, Feb 19 2021, 13:44:55) [MSC v.1928 64 bit (AMD64)]', 'platform': 'Windows-10-10.0.19041-SP0', 'event': 'loaded'}\n",
      "2021-04-09 20:34:09,286 : INFO : loading TfidfModel object from ./preprocess/model/model.tfidf\n",
      "2021-04-09 20:34:09,428 : INFO : TfidfModel lifecycle event {'fname': './preprocess/model/model.tfidf', 'datetime': '2021-04-09T20:34:09.428767', 'gensim': '4.0.1', 'python': '3.9.2 (tags/v3.9.2:1a79785, Feb 19 2021, 13:44:55) [MSC v.1928 64 bit (AMD64)]', 'platform': 'Windows-10-10.0.19041-SP0', 'event': 'loaded'}\n",
      "2021-04-09 20:34:09,428 : INFO : loading LsiModel object from ./preprocess/model/model.lsi\n",
      "2021-04-09 20:34:09,617 : INFO : loading id2word recursively from ./preprocess/model/model.lsi.id2word.* with mmap=None\n",
      "2021-04-09 20:34:09,617 : INFO : setting ignored attribute projection to None\n",
      "2021-04-09 20:34:09,617 : INFO : setting ignored attribute dispatcher to None\n",
      "2021-04-09 20:34:09,617 : INFO : LsiModel lifecycle event {'fname': './preprocess/model/model.lsi', 'datetime': '2021-04-09T20:34:09.617149', 'gensim': '4.0.1', 'python': '3.9.2 (tags/v3.9.2:1a79785, Feb 19 2021, 13:44:55) [MSC v.1928 64 bit (AMD64)]', 'platform': 'Windows-10-10.0.19041-SP0', 'event': 'loaded'}\n",
      "2021-04-09 20:34:09,617 : INFO : loading LsiModel object from ./preprocess/model/model.lsi.projection\n",
      "2021-04-09 20:34:09,648 : INFO : Projection lifecycle event {'fname': './preprocess/model/model.lsi.projection', 'datetime': '2021-04-09T20:34:09.648397', 'gensim': '4.0.1', 'python': '3.9.2 (tags/v3.9.2:1a79785, Feb 19 2021, 13:44:55) [MSC v.1928 64 bit (AMD64)]', 'platform': 'Windows-10-10.0.19041-SP0', 'event': 'loaded'}\n",
      "2021-04-09 20:34:09,648 : INFO : loading MatrixSimilarity object from ./preprocess/model/model.mSimilar\n",
      "2021-04-09 20:34:09,648 : INFO : MatrixSimilarity lifecycle event {'fname': './preprocess/model/model.mSimilar', 'datetime': '2021-04-09T20:34:09.648397', 'gensim': '4.0.1', 'python': '3.9.2 (tags/v3.9.2:1a79785, Feb 19 2021, 13:44:55) [MSC v.1928 64 bit (AMD64)]', 'platform': 'Windows-10-10.0.19041-SP0', 'event': 'loaded'}\n"
     ]
    }
   ],
   "source": [
    "from preprocess import load_model\n",
    "from sklearn import metrics\n",
    "\n",
    "corpus, dictionary, tfidf, lsi, mSimilar = load_model(\"./preprocess/model_test/\")\n",
    "corpus_t, dictionary_t, tfidf_t, lsi_t, mSimilar_t = load_model(\"./preprocess/model/\")"
   ],
   "metadata": {
    "collapsed": false,
    "pycharm": {
     "name": "#%%\n"
    }
   }
  },
  {
   "cell_type": "code",
   "execution_count": 4,
   "outputs": [],
   "source": [
    "X = lsi[tfidf[corpus]]\n",
    "X_t = lsi_t[tfidf_t[corpus_t]]"
   ],
   "metadata": {
    "collapsed": false,
    "pycharm": {
     "name": "#%%\n"
    }
   }
  },
  {
   "cell_type": "code",
   "execution_count": 5,
   "outputs": [],
   "source": [
    "import numpy as np\n",
    "\n",
    "X_list = []\n",
    "for doc in X:\n",
    "    if not doc:\n",
    "        tmp_doc = [0.0 for _ in range(X.obj.num_topics)]\n",
    "    else:\n",
    "        tmp_doc = [i[1] for i in doc]\n",
    "        if len(tmp_doc) < X.obj.num_topics:\n",
    "            tmp_doc += [0 for _ in range(X.obj.num_topics - len(tmp_doc))]\n",
    "    X_list.append(tmp_doc)\n",
    "\n",
    "X_array = np.array(X_list)\n",
    "X_torch = torch.from_numpy(X_array)\n"
   ],
   "metadata": {
    "collapsed": false,
    "pycharm": {
     "name": "#%%\n"
    }
   }
  },
  {
   "cell_type": "code",
   "execution_count": 6,
   "outputs": [],
   "source": [
    "import numpy as np\n",
    "\n",
    "X_list_t = []\n",
    "for doc in X_t:\n",
    "    if not doc:\n",
    "        tmp_doc = [0.0 for _ in range(X_t.obj.num_topics)]\n",
    "    else:\n",
    "        tmp_doc = [i[1] for i in doc]\n",
    "        if len(tmp_doc) < X_t.obj.num_topics:\n",
    "            tmp_doc += [0 for _ in range(X_t.obj.num_topics - len(tmp_doc))]\n",
    "    X_list_t.append(tmp_doc)\n",
    "\n",
    "X_array_t = np.array(X_list_t)\n",
    "X_torch_t = torch.from_numpy(X_array_t)"
   ],
   "metadata": {
    "collapsed": false,
    "pycharm": {
     "name": "#%%\n"
    }
   }
  },
  {
   "cell_type": "code",
   "execution_count": 7,
   "outputs": [],
   "source": [
    "from file_utils import get_files\n",
    "\n",
    "f_list = get_files(\"./corpus/test/\")\n",
    "l = np.array([int(i.split(\"\\\\\")[-1].split(\"-\")[0][1:]) for i in f_list])\n"
   ],
   "metadata": {
    "collapsed": false,
    "pycharm": {
     "name": "#%%\n"
    }
   }
  },
  {
   "cell_type": "code",
   "execution_count": 14,
   "outputs": [
    {
     "name": "stdout",
     "output_type": "stream",
     "text": [
      "0.4324654190398698\n"
     ]
    }
   ],
   "source": [
    "from training_utils import best_map\n",
    "# 0.5142392188771359\n",
    "kmeans_plus_plus = KMeansPlusPlus(20, random_state=659, device=device)\n",
    "label, _ = kmeans_plus_plus.fit_predict(X, mSimilar, X_array, X_torch)\n",
    "acc, label_pred = best_map(l, label.numpy())\n",
    "print(acc)"
   ],
   "metadata": {
    "collapsed": false,
    "pycharm": {
     "name": "#%%\n"
    }
   }
  },
  {
   "cell_type": "code",
   "execution_count": 15,
   "outputs": [
    {
     "name": "stdout",
     "output_type": "stream",
     "text": [
      "0.4780309194467046\n"
     ]
    }
   ],
   "source": [
    "from training_utils import best_map\n",
    "\n",
    "kmeans_plus_plus = KMeansPlusPlus(20, random_state=202, device=device)\n",
    "model = kmeans_plus_plus.fit(X_t, mSimilar_t, X_array_t, X_torch_t)\n",
    "label_t = model.predict(mSimilar)\n",
    "acc, _ = best_map(l, label_t.numpy())\n",
    "print(acc)"
   ],
   "metadata": {
    "collapsed": false,
    "pycharm": {
     "name": "#%%\n"
    }
   }
  },
  {
   "cell_type": "code",
   "execution_count": 13,
   "outputs": [
    {
     "name": "stdout",
     "output_type": "stream",
     "text": [
      "1 0.4520951993490643\n",
      "9 0.4503661513425549\n",
      "14 0.4518917819365338\n",
      "29 0.45199349064279903\n",
      "37 0.45819772172497963\n",
      "55 0.4869812855980472\n",
      "59 0.46399511798209925\n",
      "70 0.467046379170057\n",
      "75 0.4636899918633035\n",
      "82 0.4500610252237592\n",
      "111 0.4565703824247356\n",
      "113 0.4644019528071603\n",
      "126 0.47375915378356387\n",
      "127 0.4625711960943857\n",
      "130 0.46267290480065093\n",
      "132 0.4672497965825875\n",
      "151 0.4653173311635476\n",
      "158 0.475386493083808\n",
      "181 0.45331570382424735\n",
      "184 0.451586655817738\n",
      "188 0.45941822620016276\n",
      "210 0.4518917819365338\n",
      "219 0.45382424735557364\n",
      "234 0.45097640358014646\n",
      "260 0.4506712774613507\n",
      "268 0.4662327095199349\n",
      "278 0.46379170056956875\n",
      "290 0.4510781122864117\n",
      "305 0.4720301057770545\n",
      "309 0.48423515052888527\n",
      "315 0.45829943043124494\n",
      "323 0.46775834011391376\n",
      "340 0.4530105777054516\n",
      "342 0.4701993490642799\n",
      "353 0.4527054515866558\n",
      "368 0.4873881204231082\n",
      "372 0.4508746948738812\n",
      "373 0.47497965825874694\n",
      "378 0.4822009764035802\n",
      "380 0.49572823433685925\n",
      "389 0.46358828315703826\n",
      "397 0.4873881204231082\n",
      "398 0.45829943043124494\n",
      "407 0.45707892595606187\n",
      "435 0.48474369406021156\n",
      "439 0.4541293734743694\n",
      "453 0.48708299430431246\n",
      "457 0.48026851098454026\n",
      "463 0.45280716029292106\n",
      "466 0.45697721724979656\n",
      "479 0.4741659886086249\n",
      "481 0.45890968266883647\n",
      "486 0.4505695687550854\n",
      "492 0.47426769731489016\n",
      "493 0.46165581773799835\n",
      "494 0.4650122050447518\n",
      "502 0.488506916192026\n",
      "534 0.4615541090317331\n",
      "556 0.4882017900732303\n",
      "560 0.4628763222131814\n",
      "568 0.4534174125305126\n",
      "570 0.488506916192026\n",
      "575 0.4613506916192026\n",
      "584 0.45097640358014646\n",
      "590 0.45117982099267695\n",
      "599 0.46196094385679415\n",
      "605 0.46399511798209925\n",
      "610 0.4541293734743694\n",
      "614 0.4513832384052075\n",
      "616 0.46745321399511797\n",
      "617 0.49857607811228644\n",
      "620 0.45402766476810413\n",
      "659 0.5142392188771359\n",
      "696 0.45148494711147275\n",
      "698 0.4690805532953621\n",
      "699 0.4641985353946298\n",
      "713 0.45331570382424735\n",
      "717 0.4586045565500407\n",
      "742 0.4644019528071603\n",
      "745 0.4650122050447518\n",
      "783 0.45463791700569567\n",
      "820 0.4503661513425549\n",
      "822 0.4874898291293735\n",
      "823 0.4618592351505289\n",
      "851 0.4788445890968267\n",
      "862 0.46358828315703826\n",
      "863 0.45433279088689993\n",
      "887 0.4576891781936534\n",
      "901 0.4647070789259561\n",
      "905 0.45362082994304315\n",
      "915 0.47660699755899105\n",
      "929 0.48687957689178196\n",
      "934 0.45799430431244914\n",
      "948 0.4544344995931652\n",
      "956 0.4584011391375102\n",
      "963 0.4566720911310008\n",
      "970 0.4743694060211554\n",
      "max 659 0.5142392188771359\n"
     ]
    }
   ],
   "source": [
    "max_acc = 0\n",
    "max_i = -1\n",
    "from training_utils import best_map\n",
    "\n",
    "# train 629\n",
    "# test 98\n",
    "# train test 102 202\n",
    "# kpp 659 30->752\n",
    "for i in range(1000):\n",
    "    kmeans_plus_plus = KMeansPlusPlus(20, random_state=i, device=device)\n",
    "    label, _ = kmeans_plus_plus.fit_predict(X, mSimilar, X_array, X_torch)\n",
    "    acc, _ = best_map(l, label.numpy())\n",
    "    if acc > max_acc:\n",
    "        max_acc = acc\n",
    "        max_i = i\n",
    "    if acc > 0.45:\n",
    "        print(i, acc)\n",
    "print(\"max\", max_i, max_acc)"
   ],
   "metadata": {
    "collapsed": false,
    "pycharm": {
     "name": "#%%\n"
    }
   }
  },
  {
   "cell_type": "code",
   "execution_count": 12,
   "outputs": [
    {
     "name": "stdout",
     "output_type": "stream",
     "text": [
      "17 0.48260781122864116\n",
      "68 0.4835231895850285\n",
      "102 0.5100691619202604\n",
      "133 0.48382831570382423\n",
      "139 0.5066110659072417\n",
      "202 0.5213588283157038\n",
      "245 0.48077705451586655\n",
      "269 0.48443856794141577\n",
      "270 0.4846419853539463\n",
      "290 0.49705044751830757\n",
      "313 0.4835231895850285\n",
      "333 0.49613506916192024\n",
      "373 0.5049837266069975\n",
      "403 0.4830146460537022\n",
      "409 0.49145646867371845\n",
      "411 0.48921887713588286\n",
      "430 0.48260781122864116\n",
      "469 0.4958299430431245\n",
      "470 0.48098047192839705\n",
      "472 0.4874898291293735\n",
      "520 0.49125305126118796\n",
      "530 0.4832180634662327\n",
      "586 0.48098047192839705\n",
      "603 0.48148901545972334\n",
      "613 0.4921684296175753\n",
      "623 0.48108218063466235\n",
      "634 0.4931855166802278\n",
      "635 0.48942229454841335\n",
      "672 0.49288039056143207\n",
      "687 0.49908462164361267\n",
      "711 0.4898291293734744\n",
      "725 0.4803702196908055\n",
      "726 0.48565907241659884\n",
      "742 0.48810008136696503\n",
      "753 0.49705044751830757\n",
      "754 0.49308380797396256\n",
      "758 0.48962571196094384\n",
      "772 0.48545565500406834\n",
      "785 0.4932872253864931\n",
      "786 0.48657445077298617\n",
      "790 0.4818958502847844\n",
      "793 0.48382831570382423\n",
      "806 0.4979658258746949\n",
      "807 0.48342148087876324\n",
      "812 0.49806753458096015\n",
      "819 0.4813873067534581\n",
      "821 0.48291293734743695\n",
      "828 0.4923718470301058\n",
      "864 0.4808787632221318\n",
      "871 0.48677786818551666\n",
      "882 0.48494711147274205\n",
      "889 0.48545565500406834\n",
      "904 0.480166802278275\n",
      "933 0.5\n",
      "988 0.48148901545972334\n",
      "1000 0.4905410903173312\n",
      "1036 0.48362489829129374\n",
      "1067 0.4827095199349064\n",
      "1077 0.49389747762408465\n",
      "1086 0.4864727420667209\n",
      "1090 0.49877949552481693\n",
      "1093 0.4861676159479251\n",
      "1121 0.4825061025223759\n",
      "1124 0.48891375101708706\n",
      "1127 0.4866761594792514\n",
      "1213 0.4839300244100895\n",
      "1215 0.4931855166802278\n",
      "1225 0.4806753458096013\n",
      "1226 0.49410089503661514\n",
      "1247 0.4866761594792514\n",
      "1254 0.488506916192026\n",
      "1326 0.48209926769731487\n",
      "1357 0.4827095199349064\n",
      "1363 0.4931855166802278\n",
      "1390 0.4874898291293735\n",
      "1436 0.48179414157851913\n",
      "1439 0.48342148087876324\n",
      "1457 0.4815907241659886\n",
      "1498 0.49288039056143207\n",
      "1500 0.4997965825874695\n",
      "1526 0.4909479251423922\n",
      "1532 0.48799837266069973\n",
      "1552 0.48098047192839705\n",
      "1555 0.4905410903173312\n",
      "1566 0.4965419039869813\n",
      "1633 0.48677786818551666\n",
      "1674 0.4963384865744508\n",
      "1675 0.48962571196094384\n",
      "1676 0.5065093572009765\n",
      "1681 0.492473555736371\n",
      "1686 0.4851505288852726\n",
      "1690 0.4851505288852726\n",
      "1696 0.4828112286411717\n",
      "1762 0.5014239218877136\n",
      "1777 0.48921887713588286\n",
      "1788 0.48891375101708706\n",
      "1795 0.48382831570382423\n",
      "1872 0.4890154597233523\n",
      "1875 0.5094589096826688\n",
      "1880 0.48240439381611067\n",
      "1886 0.4929820992676973\n",
      "1905 0.4932872253864931\n",
      "1954 0.5016273393002441\n",
      "1964 0.48362489829129374\n",
      "1966 0.49847436940602113\n",
      "max 202 0.5213588283157038\n"
     ]
    }
   ],
   "source": [
    "max_acc = 0\n",
    "max_i = -1\n",
    "from training_utils import best_map\n",
    "\n",
    "# 202\n",
    "for i in range(2000):\n",
    "    kmeans = KMeansPlusPlus(20, random_state=i, device=device)\n",
    "    model = kmeans.fit(X_t, mSimilar_t, X_array_t, X_torch_t)\n",
    "    label_t = model.predict(mSimilar)\n",
    "    acc, _ = best_map(l, label_t.numpy())\n",
    "    if acc > max_acc:\n",
    "        max_acc = acc\n",
    "        max_i = i\n",
    "    if acc > 0.48:\n",
    "        print(i, acc)\n",
    "print(\"max\", max_i, max_acc)"
   ],
   "metadata": {
    "collapsed": false,
    "pycharm": {
     "name": "#%%\n"
    }
   }
  }
 ],
 "metadata": {
  "kernelspec": {
   "name": "pycharm-ea0bb772",
   "language": "python",
   "display_name": "PyCharm (TopicDetection)"
  },
  "language_info": {
   "codemirror_mode": {
    "name": "ipython",
    "version": 2
   },
   "file_extension": ".py",
   "mimetype": "text/x-python",
   "name": "python",
   "nbconvert_exporter": "python",
   "pygments_lexer": "ipython2",
   "version": "2.7.6"
  }
 },
 "nbformat": 4,
 "nbformat_minor": 0
}