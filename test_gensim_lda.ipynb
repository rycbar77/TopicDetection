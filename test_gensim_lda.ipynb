{
 "cells": [
  {
   "cell_type": "code",
   "execution_count": 1,
   "metadata": {
    "collapsed": true
   },
   "outputs": [],
   "source": [
    "from preprocess import load_model\n",
    "from pprint import pprint\n",
    "import torch"
   ]
  },
  {
   "cell_type": "code",
   "execution_count": 2,
   "metadata": {
    "pycharm": {
     "name": "#%%\n"
    },
    "scrolled": true
   },
   "outputs": [
    {
     "name": "stderr",
     "output_type": "stream",
     "text": [
      "2021-04-12 13:56:11,398 : INFO : loaded corpus index from ./preprocess/model/corpus.mm.index\n",
      "2021-04-12 13:56:11,414 : INFO : initializing cython corpus reader from ./preprocess/model/corpus.mm\n",
      "2021-04-12 13:56:11,414 : INFO : accepted corpus with 9804 documents, 143834 features, 1735381 non-zero entries\n",
      "2021-04-12 13:56:11,414 : INFO : loading Dictionary object from ./preprocess/model/model.dic\n",
      "2021-04-12 13:56:11,555 : INFO : Dictionary lifecycle event {'fname': './preprocess/model/model.dic', 'datetime': '2021-04-12T13:56:11.555241', 'gensim': '4.0.1', 'python': '3.9.2 (tags/v3.9.2:1a79785, Feb 19 2021, 13:44:55) [MSC v.1928 64 bit (AMD64)]', 'platform': 'Windows-10-10.0.19041-SP0', 'event': 'loaded'}\n",
      "2021-04-12 13:56:11,555 : INFO : loading TfidfModel object from ./preprocess/model/model.tfidf\n",
      "2021-04-12 13:56:11,797 : INFO : TfidfModel lifecycle event {'fname': './preprocess/model/model.tfidf', 'datetime': '2021-04-12T13:56:11.797287', 'gensim': '4.0.1', 'python': '3.9.2 (tags/v3.9.2:1a79785, Feb 19 2021, 13:44:55) [MSC v.1928 64 bit (AMD64)]', 'platform': 'Windows-10-10.0.19041-SP0', 'event': 'loaded'}\n",
      "2021-04-12 13:56:11,797 : INFO : loading LdaModel object from ./preprocess/model/model.lda\n",
      "2021-04-12 13:56:11,812 : INFO : loading expElogbeta from ./preprocess/model/model.lda.expElogbeta.npy with mmap=None\n",
      "2021-04-12 13:56:11,828 : INFO : setting ignored attribute state to None\n",
      "2021-04-12 13:56:11,828 : INFO : setting ignored attribute dispatcher to None\n",
      "2021-04-12 13:56:11,844 : INFO : setting ignored attribute id2word to None\n",
      "2021-04-12 13:56:11,844 : INFO : LdaModel lifecycle event {'fname': './preprocess/model/model.lda', 'datetime': '2021-04-12T13:56:11.844167', 'gensim': '4.0.1', 'python': '3.9.2 (tags/v3.9.2:1a79785, Feb 19 2021, 13:44:55) [MSC v.1928 64 bit (AMD64)]', 'platform': 'Windows-10-10.0.19041-SP0', 'event': 'loaded'}\n",
      "2021-04-12 13:56:11,844 : INFO : loading LdaState object from ./preprocess/model/model.lda.state\n",
      "2021-04-12 13:56:11,859 : INFO : LdaState lifecycle event {'fname': './preprocess/model/model.lda.state', 'datetime': '2021-04-12T13:56:11.859800', 'gensim': '4.0.1', 'python': '3.9.2 (tags/v3.9.2:1a79785, Feb 19 2021, 13:44:55) [MSC v.1928 64 bit (AMD64)]', 'platform': 'Windows-10-10.0.19041-SP0', 'event': 'loaded'}\n",
      "2021-04-12 13:56:12,062 : INFO : loading MatrixSimilarity object from ./preprocess/model/model_lda.mSimilar\n",
      "2021-04-12 13:56:12,062 : INFO : MatrixSimilarity lifecycle event {'fname': './preprocess/model/model_lda.mSimilar', 'datetime': '2021-04-12T13:56:12.062891', 'gensim': '4.0.1', 'python': '3.9.2 (tags/v3.9.2:1a79785, Feb 19 2021, 13:44:55) [MSC v.1928 64 bit (AMD64)]', 'platform': 'Windows-10-10.0.19041-SP0', 'event': 'loaded'}\n",
      "2021-04-12 13:56:12,078 : INFO : loaded corpus index from ./preprocess/model_test/corpus.mm.index\n",
      "2021-04-12 13:56:12,078 : INFO : initializing cython corpus reader from ./preprocess/model_test/corpus.mm\n",
      "2021-04-12 13:56:12,078 : INFO : accepted corpus with 9832 documents, 143254 features, 1752991 non-zero entries\n",
      "2021-04-12 13:56:12,078 : INFO : loading Dictionary object from ./preprocess/model_test/model.dic\n",
      "2021-04-12 13:56:12,359 : INFO : Dictionary lifecycle event {'fname': './preprocess/model_test/model.dic', 'datetime': '2021-04-12T13:56:12.359243', 'gensim': '4.0.1', 'python': '3.9.2 (tags/v3.9.2:1a79785, Feb 19 2021, 13:44:55) [MSC v.1928 64 bit (AMD64)]', 'platform': 'Windows-10-10.0.19041-SP0', 'event': 'loaded'}\n",
      "2021-04-12 13:56:12,367 : INFO : loading TfidfModel object from ./preprocess/model_test/model.tfidf\n",
      "2021-04-12 13:56:12,501 : INFO : TfidfModel lifecycle event {'fname': './preprocess/model_test/model.tfidf', 'datetime': '2021-04-12T13:56:12.501325', 'gensim': '4.0.1', 'python': '3.9.2 (tags/v3.9.2:1a79785, Feb 19 2021, 13:44:55) [MSC v.1928 64 bit (AMD64)]', 'platform': 'Windows-10-10.0.19041-SP0', 'event': 'loaded'}\n",
      "2021-04-12 13:56:12,509 : INFO : loading LdaModel object from ./preprocess/model_test/model.lda\n",
      "2021-04-12 13:56:12,517 : INFO : loading expElogbeta from ./preprocess/model_test/model.lda.expElogbeta.npy with mmap=None\n",
      "2021-04-12 13:56:12,533 : INFO : setting ignored attribute state to None\n",
      "2021-04-12 13:56:12,533 : INFO : setting ignored attribute dispatcher to None\n",
      "2021-04-12 13:56:12,541 : INFO : setting ignored attribute id2word to None\n",
      "2021-04-12 13:56:12,541 : INFO : LdaModel lifecycle event {'fname': './preprocess/model_test/model.lda', 'datetime': '2021-04-12T13:56:12.541323', 'gensim': '4.0.1', 'python': '3.9.2 (tags/v3.9.2:1a79785, Feb 19 2021, 13:44:55) [MSC v.1928 64 bit (AMD64)]', 'platform': 'Windows-10-10.0.19041-SP0', 'event': 'loaded'}\n",
      "2021-04-12 13:56:12,549 : INFO : loading LdaState object from ./preprocess/model_test/model.lda.state\n",
      "2021-04-12 13:56:12,573 : INFO : LdaState lifecycle event {'fname': './preprocess/model_test/model.lda.state', 'datetime': '2021-04-12T13:56:12.573337', 'gensim': '4.0.1', 'python': '3.9.2 (tags/v3.9.2:1a79785, Feb 19 2021, 13:44:55) [MSC v.1928 64 bit (AMD64)]', 'platform': 'Windows-10-10.0.19041-SP0', 'event': 'loaded'}\n",
      "2021-04-12 13:56:12,758 : INFO : loading MatrixSimilarity object from ./preprocess/model_test/model_lda.mSimilar\n",
      "2021-04-12 13:56:12,766 : INFO : MatrixSimilarity lifecycle event {'fname': './preprocess/model_test/model_lda.mSimilar', 'datetime': '2021-04-12T13:56:12.758383', 'gensim': '4.0.1', 'python': '3.9.2 (tags/v3.9.2:1a79785, Feb 19 2021, 13:44:55) [MSC v.1928 64 bit (AMD64)]', 'platform': 'Windows-10-10.0.19041-SP0', 'event': 'loaded'}\n"
     ]
    }
   ],
   "source": [
    "corpus_t, dictionary_t, tfidf_t, lda_t, mSimilar_t = load_model(\"./preprocess/model/\", load='lda')\n",
    "corpus, dictionary, tfidf, lda, mSimilar = load_model(\"./preprocess/model_test/\", load='lda')"
   ]
  },
  {
   "cell_type": "code",
   "execution_count": 3,
   "metadata": {
    "pycharm": {
     "name": "#%%\n"
    }
   },
   "outputs": [],
   "source": [
    "X = lda[tfidf[corpus]]\n",
    "X_t = lda_t[tfidf_t[corpus_t]]"
   ]
  },
  {
   "cell_type": "code",
   "execution_count": 20,
   "metadata": {
    "pycharm": {
     "name": "#%%\n"
    }
   },
   "outputs": [],
   "source": [
    "from file_utils import get_files\n",
    "import numpy as np\n",
    "f_list = get_files(\"./corpus/test/\")\n",
    "l = np.array([int(i.split(\"\\\\\")[-1].split(\"-\")[0][1:]) for i in f_list])\n",
    "f_list = get_files(\"./corpus/train/\")\n",
    "l_t = np.array([int(i.split(\"\\\\\")[-1].split(\"-\")[0][1:]) for i in f_list])"
   ]
  },
  {
   "cell_type": "code",
   "execution_count": 21,
   "metadata": {},
   "outputs": [],
   "source": [
    "topic=[]\n",
    "for i in X:\n",
    "    sims = sorted(i, key=lambda item: -item[1])\n",
    "    if len(sims)!=20:\n",
    "        topic.append(0)\n",
    "    else:\n",
    "        topic.append(sims[0][0])"
   ]
  },
  {
   "cell_type": "code",
   "execution_count": 22,
   "metadata": {},
   "outputs": [
    {
     "name": "stdout",
     "output_type": "stream",
     "text": [
      "准确率: 0.20117982099267698\n",
      "互信息：0.1711476426805291\n",
      "调整互信息：0.07645434894156419\n",
      "标准化互信息：0.08397071243617926\n",
      "兰德系数： 0.03652938488240762\n"
     ]
    }
   ],
   "source": [
    "from training_utils import best_map\n",
    "from training_utils import scores\n",
    "topic=np.array(topic)\n",
    "acc, label_pred = best_map(l, topic)\n",
    "print(\"准确率:\", acc)\n",
    "scores(l, label_pred)"
   ]
  },
  {
   "cell_type": "code",
   "execution_count": 23,
   "metadata": {},
   "outputs": [],
   "source": [
    "topic=[]\n",
    "for i in X_t:\n",
    "    sims = sorted(i, key=lambda item: -item[1])\n",
    "    if len(sims)!=20:\n",
    "        topic.append(0)\n",
    "    else:\n",
    "        topic.append(sims[0][0])"
   ]
  },
  {
   "cell_type": "code",
   "execution_count": 24,
   "metadata": {
    "scrolled": false
   },
   "outputs": [
    {
     "name": "stdout",
     "output_type": "stream",
     "text": [
      "准确率: 0.20359037127702978\n",
      "互信息：0.17874274831359338\n",
      "调整互信息：0.08653854673781373\n",
      "标准化互信息：0.09400135975160953\n",
      "兰德系数： 0.04027605235823201\n"
     ]
    }
   ],
   "source": [
    "from training_utils import best_map\n",
    "from training_utils import scores\n",
    "topic=np.array(topic)\n",
    "acc, label_pred = best_map(l_t, topic)\n",
    "print(\"准确率:\", acc)\n",
    "scores(l_t, label_pred)"
   ]
  }
 ],
 "metadata": {
  "kernelspec": {
   "display_name": "PyCharm (TopicDetection)",
   "language": "python",
   "name": "pycharm-ea0bb772"
  },
  "language_info": {
   "codemirror_mode": {
    "name": "ipython",
    "version": 3
   },
   "file_extension": ".py",
   "mimetype": "text/x-python",
   "name": "python",
   "nbconvert_exporter": "python",
   "pygments_lexer": "ipython3",
   "version": "3.9.2"
  }
 },
 "nbformat": 4,
 "nbformat_minor": 1
}
