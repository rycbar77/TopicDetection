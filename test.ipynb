{
 "cells": [
  {
   "cell_type": "code",
   "execution_count": 1,
   "metadata": {
    "collapsed": true
   },
   "outputs": [],
   "source": [
    "import torch\n",
    "import numpy as np\n",
    "import matplotlib.pyplot as plt\n",
    "from kmeans.kmeans import KMeans"
   ]
  },
  {
   "cell_type": "code",
   "execution_count": 2,
   "outputs": [],
   "source": [
    "data_size, dims, num_clusters = 1000, 2, 3\n",
    "if torch.cuda.is_available():\n",
    "    device = torch.device('cuda:0')\n",
    "else:\n",
    "    device = torch.device('cpu')\n",
    "\n",
    "k_means=KMeans(n_clusters=num_clusters,distance='cosine', device=device)\n",
    "np.random.seed(123)"
   ],
   "metadata": {
    "collapsed": false,
    "pycharm": {
     "name": "#%%\n"
    }
   }
  },
  {
   "cell_type": "code",
   "execution_count": 3,
   "outputs": [],
   "source": [
    "\n",
    "x = np.random.randn(data_size, dims)/6\n",
    "x = torch.from_numpy(x)"
   ],
   "metadata": {
    "collapsed": false,
    "pycharm": {
     "name": "#%%\n"
    }
   }
  },
  {
   "cell_type": "code",
   "execution_count": 4,
   "outputs": [],
   "source": [
    "cluster_ids_x, cluster_centers = k_means.fit_predict(X=x)"
   ],
   "metadata": {
    "collapsed": false,
    "pycharm": {
     "name": "#%%\n"
    }
   }
  },
  {
   "cell_type": "code",
   "execution_count": 5,
   "outputs": [
    {
     "name": "stdout",
     "output_type": "stream",
     "text": [
      "tensor([2, 1, 2, 0, 1, 0, 1, 0, 2, 1, 2, 2, 0, 1, 0, 0, 0, 1, 2, 0, 0, 2, 1, 1,\n",
      "        2, 0, 1, 2, 2, 2, 2, 1, 1, 1, 0, 1, 1, 0, 0, 0, 1, 1, 0, 0, 1, 1, 2, 2,\n",
      "        0, 1, 1, 2, 2, 1, 1, 2, 2, 1, 0, 1, 0, 2, 1, 2, 1, 0, 0, 1, 2, 1, 0, 1,\n",
      "        1, 2, 2, 2, 0, 0, 1, 1, 1, 2, 1, 1, 1, 0, 0, 2, 1, 0, 2, 1, 0, 0, 2, 1,\n",
      "        1, 1, 0, 0, 1, 1, 0, 0, 2, 2, 0, 2, 1, 0, 0, 0, 1, 0, 0, 0, 0, 1, 1, 1,\n",
      "        2, 1, 1, 1, 0, 1, 0, 1, 1, 2, 0, 0, 1, 1, 1, 0, 1, 0, 1, 0, 0, 0, 0, 2,\n",
      "        0, 2, 1, 0, 1, 2, 1, 2, 2, 2, 1, 1, 2, 1, 0, 2, 0, 0, 1, 0, 2, 2, 0, 0,\n",
      "        2, 1, 0, 1, 0, 2, 2, 0, 0, 0, 2, 0, 2, 2, 0, 1, 1, 0, 1, 0, 2, 1, 1, 0,\n",
      "        0, 2, 1, 2, 0, 0, 2, 2, 1, 0, 2, 0, 2, 2, 2, 1, 1, 0, 2, 0, 0, 2, 0, 2,\n",
      "        1, 2, 1, 1, 1, 0, 1, 0, 1, 1, 0, 0, 2, 2, 2, 0, 1, 1, 2, 2, 2, 1, 2, 0,\n",
      "        0, 0, 2, 2, 1, 0, 0, 0, 1, 1, 1, 2, 2, 0, 0, 1, 1, 0, 2, 2, 0, 0, 2, 1,\n",
      "        2, 1, 1, 2, 1, 2, 0, 2, 2, 0, 2, 0, 0, 1, 1, 1, 2, 0, 2, 0, 2, 1, 1, 2,\n",
      "        0, 1, 0, 1, 2, 1, 2, 1, 2, 2, 0, 1, 1, 1, 1, 1, 1, 2, 1, 1, 2, 0, 2, 1,\n",
      "        0, 0, 2, 0, 0, 0, 1, 2, 1, 2, 0, 0, 2, 1, 1, 1, 1, 0, 2, 0, 2, 2, 2, 0,\n",
      "        1, 2, 2, 1, 2, 1, 0, 2, 1, 0, 0, 2, 1, 2, 1, 1, 2, 1, 2, 0, 0, 2, 0, 1,\n",
      "        1, 1, 2, 2, 2, 2, 0, 0, 0, 0, 0, 0, 2, 2, 2, 1, 1, 2, 2, 0, 1, 0, 0, 0,\n",
      "        0, 1, 1, 0, 0, 1, 0, 2, 0, 0, 0, 0, 2, 0, 1, 0, 0, 0, 2, 1, 2, 1, 2, 1,\n",
      "        0, 0, 1, 0, 1, 2, 2, 2, 0, 1, 2, 0, 2, 2, 0, 0, 0, 1, 0, 1, 0, 0, 1, 0,\n",
      "        1, 0, 1, 2, 0, 2, 1, 2, 0, 0, 0, 1, 2, 2, 1, 1, 0, 1, 2, 1, 0, 0, 0, 0,\n",
      "        0, 0, 2, 2, 1, 1, 2, 2, 0, 2, 0, 0, 2, 2, 0, 0, 2, 2, 1, 0, 2, 1, 2, 0,\n",
      "        0, 0, 1, 0, 2, 1, 0, 2, 1, 1, 0, 2, 0, 0, 0, 2, 0, 2, 1, 1, 2, 1, 1, 0,\n",
      "        0, 2, 0, 1, 1, 1, 0, 0, 2, 1, 0, 2, 1, 2, 1, 2, 0, 0, 0, 0, 0, 0, 2, 1,\n",
      "        1, 0, 1, 1, 2, 2, 1, 1, 1, 0, 1, 2, 1, 2, 0, 1, 1, 2, 0, 0, 2, 1, 2, 1,\n",
      "        1, 1, 1, 1, 1, 0, 2, 0, 1, 0, 1, 2, 0, 0, 2, 0, 2, 0, 2, 0, 2, 0, 1, 2,\n",
      "        2, 0, 1, 2, 1, 0, 0, 2, 0, 1, 0, 2, 0, 0, 1, 1, 2, 0, 1, 2, 1, 2, 1, 0,\n",
      "        1, 2, 0, 1, 1, 0, 1, 1, 0, 1, 0, 1, 1, 2, 0, 0, 2, 2, 0, 1, 1, 1, 1, 0,\n",
      "        2, 1, 1, 2, 1, 2, 1, 2, 2, 2, 0, 2, 2, 1, 2, 0, 0, 2, 0, 0, 1, 1, 0, 1,\n",
      "        2, 1, 2, 0, 2, 1, 0, 1, 2, 1, 1, 1, 2, 2, 0, 1, 1, 1, 2, 0, 1, 1, 2, 2,\n",
      "        0, 1, 0, 1, 0, 2, 1, 2, 0, 0, 1, 1, 0, 1, 2, 1, 1, 2, 1, 0, 1, 1, 1, 0,\n",
      "        1, 2, 0, 1, 1, 1, 1, 1, 1, 2, 1, 1, 1, 2, 1, 1, 1, 1, 1, 1, 2, 2, 2, 0,\n",
      "        0, 2, 0, 2, 2, 1, 1, 1, 1, 0, 2, 1, 2, 2, 1, 2, 1, 1, 1, 2, 2, 1, 0, 2,\n",
      "        2, 0, 2, 0, 0, 2, 2, 0, 0, 0, 0, 0, 2, 0, 0, 2, 0, 1, 2, 1, 0, 2, 2, 2,\n",
      "        2, 0, 0, 2, 2, 0, 0, 2, 2, 0, 1, 2, 0, 1, 0, 0, 0, 2, 1, 0, 2, 0, 0, 2,\n",
      "        0, 2, 2, 1, 0, 1, 2, 0, 2, 2, 2, 2, 2, 0, 0, 1, 2, 1, 0, 2, 0, 0, 1, 2,\n",
      "        1, 0, 1, 0, 2, 0, 0, 1, 1, 2, 2, 1, 2, 1, 2, 0, 0, 2, 2, 0, 1, 0, 0, 2,\n",
      "        2, 2, 2, 0, 1, 0, 2, 0, 2, 0, 1, 0, 0, 1, 1, 0, 2, 0, 2, 0, 2, 0, 0, 1,\n",
      "        1, 1, 0, 2, 0, 2, 1, 0, 0, 1, 0, 2, 0, 0, 1, 1, 0, 2, 2, 2, 0, 2, 2, 0,\n",
      "        1, 2, 0, 1, 1, 2, 0, 1, 2, 1, 0, 1, 0, 2, 1, 1, 2, 1, 1, 2, 0, 0, 1, 1,\n",
      "        0, 2, 0, 2, 2, 2, 1, 1, 1, 2, 2, 0, 2, 1, 0, 2, 1, 0, 1, 1, 2, 0, 2, 2,\n",
      "        2, 0, 2, 1, 0, 2, 2, 1, 2, 2, 1, 1, 1, 2, 1, 2, 1, 0, 1, 1, 1, 1, 2, 0,\n",
      "        2, 2, 1, 2, 0, 2, 2, 0, 2, 1, 1, 1, 2, 2, 0, 0, 2, 1, 1, 0, 0, 2, 0, 2,\n",
      "        2, 2, 1, 2, 1, 0, 2, 0, 2, 2, 0, 0, 2, 1, 0, 0])\n",
      "tensor([[-0.1526, -0.0807],\n",
      "        [ 0.1404, -0.0840],\n",
      "        [ 0.0010,  0.1704]])\n"
     ]
    }
   ],
   "source": [
    "print(cluster_ids_x)\n",
    "print(cluster_centers)"
   ],
   "metadata": {
    "collapsed": false,
    "pycharm": {
     "name": "#%%\n"
    }
   }
  },
  {
   "cell_type": "code",
   "execution_count": 6,
   "outputs": [],
   "source": [
    "y = np.random.randn(5, dims)/6\n",
    "y = torch.from_numpy(y)"
   ],
   "metadata": {
    "collapsed": false,
    "pycharm": {
     "name": "#%%\n"
    }
   }
  },
  {
   "cell_type": "code",
   "execution_count": 7,
   "outputs": [],
   "source": [
    "model=k_means.fit(X=x)\n",
    "cluster_ids_x=model.choice_cluster\n",
    "cluster_centers=model.cluster_centers\n",
    "# k_means.fit(X=x)\n",
    "cluster_ids_y = k_means.predict(y)"
   ],
   "metadata": {
    "collapsed": false,
    "pycharm": {
     "name": "#%%\n"
    }
   }
  },
  {
   "cell_type": "code",
   "execution_count": 8,
   "outputs": [
    {
     "name": "stdout",
     "output_type": "stream",
     "text": [
      "tensor([0, 0, 2, 0, 0])\n"
     ]
    }
   ],
   "source": [
    "print(cluster_ids_y)\n"
   ],
   "metadata": {
    "collapsed": false,
    "pycharm": {
     "name": "#%%\n"
    }
   }
  },
  {
   "cell_type": "code",
   "execution_count": 9,
   "outputs": [
    {
     "data": {
      "text/plain": "<Figure size 640x480 with 1 Axes>",
      "image/png": "[encoded data removed]"
     },
     "metadata": {
      "needs_background": "light"
     },
     "output_type": "display_data"
    }
   ],
   "source": [
    "plt.figure(figsize=(4, 3), dpi=160)\n",
    "plt.scatter(x[:, 0], x[:, 1], c=cluster_ids_x, cmap='cool')\n",
    "plt.scatter(y[:, 0], y[:, 1], c=cluster_ids_y, cmap='cool', marker='X')\n",
    "plt.scatter(\n",
    "    cluster_centers[:, 0], cluster_centers[:, 1],\n",
    "    c='white',\n",
    "    alpha=0.6,\n",
    "    edgecolors='black',\n",
    "    linewidths=2\n",
    ")\n",
    "plt.axis([-1, 1, -1, 1])\n",
    "plt.tight_layout()\n",
    "plt.show()"
   ],
   "metadata": {
    "collapsed": false,
    "pycharm": {
     "name": "#%%\n"
    }
   }
  }
 ],
 "metadata": {
  "kernelspec": {
   "display_name": "Python 3",
   "language": "python",
   "name": "python3"
  },
  "language_info": {
   "codemirror_mode": {
    "name": "ipython",
    "version": 2
   },
   "file_extension": ".py",
   "mimetype": "text/x-python",
   "name": "python",
   "nbconvert_exporter": "python",
   "pygments_lexer": "ipython2",
   "version": "2.7.6"
  }
 },
 "nbformat": 4,
 "nbformat_minor": 0
}