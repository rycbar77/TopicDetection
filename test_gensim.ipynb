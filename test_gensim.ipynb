{
 "cells": [
  {
   "cell_type": "code",
   "execution_count": 11,
   "metadata": {
    "collapsed": true
   },
   "outputs": [],
   "source": [
    "from sklearn import metrics\n",
    "\n",
    "from kmeans.gensim_kmeans import KMeans\n",
    "from preprocess import load_model\n",
    "from pprint import pprint\n",
    "import torch"
   ]
  },
  {
   "cell_type": "code",
   "execution_count": 12,
   "outputs": [
    {
     "name": "stderr",
     "output_type": "stream",
     "text": [
      "2021-04-09 20:26:50,141 : INFO : loaded corpus index from ./preprocess/model/corpus.mm.index\n",
      "2021-04-09 20:26:50,141 : INFO : initializing cython corpus reader from ./preprocess/model/corpus.mm\n",
      "2021-04-09 20:26:50,141 : INFO : accepted corpus with 9804 documents, 255478 features, 6928768 non-zero entries\n",
      "2021-04-09 20:26:50,141 : INFO : loading Dictionary object from ./preprocess/model/model.dic\n",
      "2021-04-09 20:26:50,282 : INFO : Dictionary lifecycle event {'fname': './preprocess/model/model.dic', 'datetime': '2021-04-09T20:26:50.282720', 'gensim': '4.0.1', 'python': '3.9.2 (tags/v3.9.2:1a79785, Feb 19 2021, 13:44:55) [MSC v.1928 64 bit (AMD64)]', 'platform': 'Windows-10-10.0.19041-SP0', 'event': 'loaded'}\n",
      "2021-04-09 20:26:50,282 : INFO : loading TfidfModel object from ./preprocess/model/model.tfidf\n",
      "2021-04-09 20:26:50,413 : INFO : TfidfModel lifecycle event {'fname': './preprocess/model/model.tfidf', 'datetime': '2021-04-09T20:26:50.413234', 'gensim': '4.0.1', 'python': '3.9.2 (tags/v3.9.2:1a79785, Feb 19 2021, 13:44:55) [MSC v.1928 64 bit (AMD64)]', 'platform': 'Windows-10-10.0.19041-SP0', 'event': 'loaded'}\n",
      "2021-04-09 20:26:50,413 : INFO : loading LsiModel object from ./preprocess/model/model.lsi\n",
      "2021-04-09 20:26:50,585 : INFO : loading id2word recursively from ./preprocess/model/model.lsi.id2word.* with mmap=None\n",
      "2021-04-09 20:26:50,585 : INFO : setting ignored attribute projection to None\n",
      "2021-04-09 20:26:50,585 : INFO : setting ignored attribute dispatcher to None\n",
      "2021-04-09 20:26:50,585 : INFO : LsiModel lifecycle event {'fname': './preprocess/model/model.lsi', 'datetime': '2021-04-09T20:26:50.585106', 'gensim': '4.0.1', 'python': '3.9.2 (tags/v3.9.2:1a79785, Feb 19 2021, 13:44:55) [MSC v.1928 64 bit (AMD64)]', 'platform': 'Windows-10-10.0.19041-SP0', 'event': 'loaded'}\n",
      "2021-04-09 20:26:50,585 : INFO : loading LsiModel object from ./preprocess/model/model.lsi.projection\n",
      "2021-04-09 20:26:50,636 : INFO : Projection lifecycle event {'fname': './preprocess/model/model.lsi.projection', 'datetime': '2021-04-09T20:26:50.636751', 'gensim': '4.0.1', 'python': '3.9.2 (tags/v3.9.2:1a79785, Feb 19 2021, 13:44:55) [MSC v.1928 64 bit (AMD64)]', 'platform': 'Windows-10-10.0.19041-SP0', 'event': 'loaded'}\n",
      "2021-04-09 20:26:50,637 : INFO : loading MatrixSimilarity object from ./preprocess/model/model.mSimilar\n",
      "2021-04-09 20:26:50,639 : INFO : MatrixSimilarity lifecycle event {'fname': './preprocess/model/model.mSimilar', 'datetime': '2021-04-09T20:26:50.639746', 'gensim': '4.0.1', 'python': '3.9.2 (tags/v3.9.2:1a79785, Feb 19 2021, 13:44:55) [MSC v.1928 64 bit (AMD64)]', 'platform': 'Windows-10-10.0.19041-SP0', 'event': 'loaded'}\n",
      "2021-04-09 20:26:50,647 : INFO : loaded corpus index from ./preprocess/model_test/corpus.mm.index\n",
      "2021-04-09 20:26:50,647 : INFO : initializing cython corpus reader from ./preprocess/model_test/corpus.mm\n",
      "2021-04-09 20:26:50,647 : INFO : accepted corpus with 9832 documents, 255193 features, 7002755 non-zero entries\n",
      "2021-04-09 20:26:50,647 : INFO : loading Dictionary object from ./preprocess/model_test/model.dic\n",
      "2021-04-09 20:26:50,793 : INFO : Dictionary lifecycle event {'fname': './preprocess/model_test/model.dic', 'datetime': '2021-04-09T20:26:50.793411', 'gensim': '4.0.1', 'python': '3.9.2 (tags/v3.9.2:1a79785, Feb 19 2021, 13:44:55) [MSC v.1928 64 bit (AMD64)]', 'platform': 'Windows-10-10.0.19041-SP0', 'event': 'loaded'}\n",
      "2021-04-09 20:26:50,793 : INFO : loading TfidfModel object from ./preprocess/model_test/model.tfidf\n",
      "2021-04-09 20:26:50,937 : INFO : TfidfModel lifecycle event {'fname': './preprocess/model_test/model.tfidf', 'datetime': '2021-04-09T20:26:50.937941', 'gensim': '4.0.1', 'python': '3.9.2 (tags/v3.9.2:1a79785, Feb 19 2021, 13:44:55) [MSC v.1928 64 bit (AMD64)]', 'platform': 'Windows-10-10.0.19041-SP0', 'event': 'loaded'}\n",
      "2021-04-09 20:26:50,938 : INFO : loading LsiModel object from ./preprocess/model_test/model.lsi\n",
      "2021-04-09 20:26:51,105 : INFO : loading id2word recursively from ./preprocess/model_test/model.lsi.id2word.* with mmap=None\n",
      "2021-04-09 20:26:51,105 : INFO : setting ignored attribute projection to None\n",
      "2021-04-09 20:26:51,105 : INFO : setting ignored attribute dispatcher to None\n",
      "2021-04-09 20:26:51,105 : INFO : LsiModel lifecycle event {'fname': './preprocess/model_test/model.lsi', 'datetime': '2021-04-09T20:26:51.105691', 'gensim': '4.0.1', 'python': '3.9.2 (tags/v3.9.2:1a79785, Feb 19 2021, 13:44:55) [MSC v.1928 64 bit (AMD64)]', 'platform': 'Windows-10-10.0.19041-SP0', 'event': 'loaded'}\n",
      "2021-04-09 20:26:51,121 : INFO : loading LsiModel object from ./preprocess/model_test/model.lsi.projection\n",
      "2021-04-09 20:26:51,161 : INFO : Projection lifecycle event {'fname': './preprocess/model_test/model.lsi.projection', 'datetime': '2021-04-09T20:26:51.161228', 'gensim': '4.0.1', 'python': '3.9.2 (tags/v3.9.2:1a79785, Feb 19 2021, 13:44:55) [MSC v.1928 64 bit (AMD64)]', 'platform': 'Windows-10-10.0.19041-SP0', 'event': 'loaded'}\n",
      "2021-04-09 20:26:51,162 : INFO : loading MatrixSimilarity object from ./preprocess/model_test/model.mSimilar\n",
      "2021-04-09 20:26:51,165 : INFO : MatrixSimilarity lifecycle event {'fname': './preprocess/model_test/model.mSimilar', 'datetime': '2021-04-09T20:26:51.165223', 'gensim': '4.0.1', 'python': '3.9.2 (tags/v3.9.2:1a79785, Feb 19 2021, 13:44:55) [MSC v.1928 64 bit (AMD64)]', 'platform': 'Windows-10-10.0.19041-SP0', 'event': 'loaded'}\n"
     ]
    }
   ],
   "source": [
    "corpus_t, dictionary_t, tfidf_t, lsi_t, mSimilar_t = load_model(\"./preprocess/model/\")\n",
    "corpus, dictionary, tfidf, lsi, mSimilar = load_model(\"./preprocess/model_test/\")"
   ],
   "metadata": {
    "collapsed": false,
    "pycharm": {
     "name": "#%%\n"
    }
   }
  },
  {
   "cell_type": "code",
   "execution_count": 13,
   "outputs": [],
   "source": [
    "X = lsi[tfidf[corpus]]\n",
    "X_t = lsi_t[tfidf_t[corpus_t]]"
   ],
   "metadata": {
    "collapsed": false,
    "pycharm": {
     "name": "#%%\n"
    }
   }
  },
  {
   "cell_type": "code",
   "execution_count": 14,
   "outputs": [],
   "source": [
    "import numpy as np\n",
    "\n",
    "X_list = []\n",
    "for doc in X:\n",
    "    if not doc:\n",
    "        tmp_doc = [0.0 for _ in range(X.obj.num_topics)]\n",
    "    else:\n",
    "        tmp_doc = [i[1] for i in doc]\n",
    "        if len(tmp_doc) < X.obj.num_topics:\n",
    "            tmp_doc += [0 for _ in range(X.obj.num_topics - len(tmp_doc))]\n",
    "    X_list.append(tmp_doc)\n",
    "\n",
    "X_array = np.array(X_list)\n",
    "X_torch = torch.from_numpy(X_array)"
   ],
   "metadata": {
    "collapsed": false,
    "pycharm": {
     "name": "#%%\n"
    }
   }
  },
  {
   "cell_type": "code",
   "execution_count": 15,
   "outputs": [],
   "source": [
    "import numpy as np\n",
    "\n",
    "X_list_t = []\n",
    "for doc in X_t:\n",
    "    if not doc:\n",
    "        tmp_doc = [0.0 for _ in range(X_t.obj.num_topics)]\n",
    "    else:\n",
    "        tmp_doc = [i[1] for i in doc]\n",
    "        if len(tmp_doc) < X_t.obj.num_topics:\n",
    "            tmp_doc += [0 for _ in range(X_t.obj.num_topics - len(tmp_doc))]\n",
    "    X_list_t.append(tmp_doc)\n",
    "\n",
    "X_array_t = np.array(X_list_t)\n",
    "X_torch_t = torch.from_numpy(X_array_t)"
   ],
   "metadata": {
    "collapsed": false,
    "pycharm": {
     "name": "#%%\n"
    }
   }
  },
  {
   "cell_type": "code",
   "execution_count": 16,
   "outputs": [],
   "source": [
    "import torch\n",
    "\n",
    "if torch.cuda.is_available():\n",
    "    device = torch.device('cuda:0')\n",
    "else:\n",
    "    device = torch.device('cpu')\n"
   ],
   "metadata": {
    "collapsed": false,
    "pycharm": {
     "name": "#%%\n"
    }
   }
  },
  {
   "cell_type": "code",
   "execution_count": 17,
   "outputs": [],
   "source": [
    "from file_utils import get_files\n",
    "\n",
    "f_list = get_files(\"./corpus/test/\")\n",
    "l = np.array([int(i.split(\"\\\\\")[-1].split(\"-\")[0][1:]) for i in f_list])"
   ],
   "metadata": {
    "collapsed": false,
    "pycharm": {
     "name": "#%%\n"
    }
   }
  },
  {
   "cell_type": "code",
   "execution_count": 10,
   "outputs": [
    {
     "name": "stdout",
     "output_type": "stream",
     "text": [
      "14 0.4898291293734744\n",
      "35 0.49705044751830757\n",
      "158 0.49196501220504474\n",
      "229 0.4950162733930024\n",
      "446 0.48423515052888527\n",
      "535 0.4855573637103336\n",
      "565 0.48657445077298617\n",
      "636 0.5058991049633849\n",
      "642 0.48026851098454026\n",
      "712 0.48576078112286414\n",
      "821 0.48871033360455657\n",
      "857 0.48942229454841335\n",
      "908 0.48108218063466235\n",
      "981 0.48891375101708706\n",
      "986 0.48443856794141577\n",
      "1033 0.4968470301057771\n",
      "1036 0.50793327908869\n",
      "1089 0.4926769731489015\n",
      "1163 0.48687957689178196\n",
      "1206 0.4906427990235964\n",
      "1261 0.4883034987794955\n",
      "1278 0.4898291293734744\n",
      "1284 0.48708299430431246\n",
      "1397 0.49389747762408465\n",
      "1423 0.4904393816110659\n",
      "1523 0.4869812855980472\n",
      "1560 0.48057363710333606\n",
      "1641 0.4918633034987795\n",
      "1653 0.48423515052888527\n",
      "1660 0.4989829129373474\n",
      "1667 0.4890154597233523\n",
      "1884 0.48382831570382423\n",
      "max 1036 0.50793327908869\n"
     ]
    }
   ],
   "source": [
    "max_acc = 0\n",
    "max_i = -1\n",
    "from training_utils import best_map\n",
    "\n",
    "# train 629\n",
    "# test 98\n",
    "# 25,30->1036\n",
    "for i in range(2000):\n",
    "    kmeans = KMeans(20, random_state=i, device=device)\n",
    "    label, _ = kmeans.fit_predict(X, mSimilar, X_array, X_torch)\n",
    "    acc, _ = best_map(l, label.numpy())\n",
    "    if acc > max_acc:\n",
    "        max_acc = acc\n",
    "        max_i = i\n",
    "    if acc > 0.48:\n",
    "        print(i, acc)\n",
    "print(\"max\", max_i, max_acc)"
   ],
   "metadata": {
    "collapsed": false,
    "pycharm": {
     "name": "#%%\n"
    }
   }
  },
  {
   "cell_type": "code",
   "execution_count": 26,
   "outputs": [
    {
     "name": "stdout",
     "output_type": "stream",
     "text": [
      "0.5020341741253052\n"
     ]
    }
   ],
   "source": [
    "from training_utils import best_map\n",
    "from kmeans.gensim_kmeans import KMeans\n",
    "\n",
    "kmeans = KMeans(20, random_state=98, device=device)\n",
    "label, _ = kmeans.fit_predict(X, mSimilar, X_array, X_torch)\n",
    "acc, label_pred = best_map(l, label.numpy())\n",
    "print(acc)"
   ],
   "metadata": {
    "collapsed": false,
    "pycharm": {
     "name": "#%%\n"
    }
   }
  },
  {
   "cell_type": "code",
   "execution_count": 24,
   "outputs": [
    {
     "name": "stdout",
     "output_type": "stream",
     "text": [
      "0.47620016273393\n"
     ]
    }
   ],
   "source": [
    "from training_utils import best_map\n",
    "\n",
    "kmeans = KMeans(20, random_state=629, device=device)\n",
    "model = kmeans.fit(X_t, mSimilar_t, X_array_t, X_torch_t)\n",
    "label_t = model.predict(mSimilar)\n",
    "acc, l_pred = best_map(l, label_t.numpy())\n",
    "print(acc)\n"
   ],
   "metadata": {
    "collapsed": false,
    "pycharm": {
     "name": "#%%\n"
    }
   }
  },
  {
   "cell_type": "code",
   "execution_count": 27,
   "outputs": [
    {
     "name": "stdout",
     "output_type": "stream",
     "text": [
      "互信息：1.443762019930632\n",
      "调整互信息：0.5658882037470625\n",
      "标准化互信息：0.569235759920096\n",
      "兰德系数： 0.4412628417309452\n"
     ]
    }
   ],
   "source": [
    "info = metrics.mutual_info_score(l, label_pred)\n",
    "mutual_info = metrics.adjusted_mutual_info_score(l, label_pred)\n",
    "normal_info = metrics.normalized_mutual_info_score(l, label_pred)\n",
    "print(\"互信息：{0}\\n调整互信息：{1}\\n标准化互信息：{2}\".format(info, mutual_info, normal_info))\n",
    "rand = metrics.adjusted_rand_score(l, label_pred)\n",
    "print('兰德系数：', rand)"
   ],
   "metadata": {
    "collapsed": false,
    "pycharm": {
     "name": "#%%\n"
    }
   }
  },
  {
   "cell_type": "code",
   "execution_count": 7,
   "outputs": [],
   "source": [
    "import numpy as np\n",
    "import torch\n",
    "\n",
    "\n",
    "class KMeans(object):\n",
    "    def __init__(self,\n",
    "                 n_clusters,\n",
    "                 tol=1e-4,\n",
    "                 max_iter=300,\n",
    "                 random_state=0,\n",
    "                 device=torch.device('cpu')):\n",
    "        self.cluster_centers = []\n",
    "        self.device = device\n",
    "        self.n_clusters = n_clusters\n",
    "        self.tol = tol\n",
    "        self.max_iter = max_iter\n",
    "        self.choice_cluster = None\n",
    "        self.initial_state = None\n",
    "        self.random_state = random_state\n",
    "        self.mSimilar = None\n",
    "\n",
    "    def get_distance(self, initial_state):\n",
    "        dis = self.mSimilar[initial_state]\n",
    "        dis = dis.T\n",
    "        return torch.from_numpy(dis).to(self.device)\n",
    "\n",
    "    def fit_predict(self, X, mSimilar, X_array=None, X_torch=None):\n",
    "        self.mSimilar = mSimilar\n",
    "        if X_array is None:\n",
    "            X_array = np.array([[i[1] for i in doc] for doc in X])\n",
    "        if X_torch is None:\n",
    "            X_torch = torch.from_numpy(X_array).to(self.device)\n",
    "        num_samples = X.corpus.corpus.num_docs\n",
    "        np.random.seed(self.random_state)\n",
    "        indices = np.random.choice(num_samples, self.n_clusters, replace=False)\n",
    "        dis = self.get_distance(X[indices])\n",
    "        choice_points = np.array(torch.argmax(dis, dim=0))\n",
    "        initial_state = X_torch[choice_points]\n",
    "        choice_points = X[choice_points]\n",
    "        iteration = 0\n",
    "        while True:\n",
    "            dis = self.get_distance(choice_points)\n",
    "            choice_cluster = torch.argmax(dis, dim=1)\n",
    "            initial_state_pre = initial_state.clone()\n",
    "            for index in range(self.n_clusters):\n",
    "                selected = torch.nonzero(torch.from_numpy(np.array(choice_cluster == index))).squeeze().to(self.device)\n",
    "                selected = torch.index_select(X_torch, 0, selected)\n",
    "                if selected.shape[0] == 0:\n",
    "                    selected = X_torch[torch.randint(len(X), (1,))]\n",
    "\n",
    "                initial_state[index] = selected.mean(dim=0)\n",
    "            center_shift = torch.sum(\n",
    "                torch.sqrt(\n",
    "                    torch.sum((initial_state - initial_state_pre) ** 2, dim=1)\n",
    "                ))\n",
    "            choice_points = [[(j, np.array(initial_state[i]).tolist()[j]) for j in range(20)] for i in\n",
    "                             range(len(initial_state))]\n",
    "            iteration = iteration + 1\n",
    "\n",
    "            if center_shift ** 2 < self.tol:\n",
    "                break\n",
    "            if self.max_iter != 0 and iteration >= self.max_iter:\n",
    "                break\n",
    "            self.initial_state = initial_state.cpu()\n",
    "        return choice_cluster.cpu(), initial_state.cpu()\n",
    "\n",
    "    def fit(self, X, mSimilar, X_array=None, X_torch=None):\n",
    "        self.mSimilar = mSimilar\n",
    "        num_samples = X.corpus.corpus.num_docs\n",
    "        if X_array is None:\n",
    "            X_array = np.array([[i[1] for i in doc] for doc in X])\n",
    "        if X_torch is None:\n",
    "            X_torch = torch.from_numpy(X_array).to(self.device)\n",
    "        np.random.seed(self.random_state)\n",
    "        indices = np.random.choice(num_samples, self.n_clusters, replace=False)\n",
    "        dis = self.get_distance(X[indices])\n",
    "        choice_points = np.array(torch.argmax(dis, dim=0))\n",
    "        self.initial_state = X_torch[choice_points]\n",
    "        choice_points = X[choice_points]\n",
    "        iteration = 0\n",
    "        while True:\n",
    "            dis = self.get_distance(choice_points)\n",
    "            choice_cluster = torch.argmax(dis, dim=1)\n",
    "            initial_state_pre = self.initial_state.clone()\n",
    "            for index in range(self.n_clusters):\n",
    "                selected = torch.nonzero(\n",
    "                    torch.from_numpy(np.array(choice_cluster == index)).to(self.device)).squeeze().to(self.device)\n",
    "                selected = torch.index_select(X_torch, 0, selected)\n",
    "                if selected.shape[0] == 0:\n",
    "                    selected = X_torch[torch.randint(len(X), (1,))]\n",
    "                self.initial_state[index] = selected.mean(dim=0)\n",
    "            center_shift = torch.sum(\n",
    "                torch.sqrt(\n",
    "                    torch.sum((self.initial_state - initial_state_pre) ** 2, dim=1)\n",
    "                ))\n",
    "            choice_points = [[(j, np.array(self.initial_state[i]).tolist()[j]) for j in range(20)] for i in\n",
    "                             range(len(self.initial_state))]\n",
    "            iteration = iteration + 1\n",
    "\n",
    "            if center_shift ** 2 < self.tol:\n",
    "                break\n",
    "            if self.max_iter != 0 and iteration >= self.max_iter:\n",
    "                break\n",
    "\n",
    "        self.cluster_centers = self.initial_state\n",
    "        return self\n",
    "\n",
    "    def predict(self, mSimilar):\n",
    "        tmp = self.mSimilar\n",
    "        self.mSimilar = mSimilar\n",
    "        choice_points = [[(j, np.array(self.initial_state[i]).tolist()[j]) for j in range(20)] for i in\n",
    "                         range(len(self.initial_state))]\n",
    "        dis = self.get_distance(choice_points)\n",
    "        choice_cluster = torch.argmax(dis, dim=1)\n",
    "        self.mSimilar = tmp\n",
    "        return choice_cluster.cpu()"
   ],
   "metadata": {
    "collapsed": false,
    "pycharm": {
     "name": "#%%\n"
    }
   }
  },
  {
   "cell_type": "code",
   "execution_count": 29,
   "outputs": [
    {
     "name": "stdout",
     "output_type": "stream",
     "text": [
      "0.5213588283157038\n"
     ]
    }
   ],
   "source": [
    "max_acc = 0\n",
    "max_i = -1\n",
    "from training_utils import best_map\n",
    "\n",
    "# train 629\n",
    "# test 98\n",
    "# train test 102 202\n",
    "\n",
    "kmeans = KMeans(20, random_state=202, device=device)\n",
    "model = kmeans.fit(X_t, mSimilar_t, X_array_t, X_torch_t)\n",
    "label_t = model.predict(mSimilar)\n",
    "acc, _ = best_map(l, label_t.numpy())\n",
    "\n",
    "print(acc)"
   ],
   "metadata": {
    "collapsed": false,
    "pycharm": {
     "name": "#%%\n"
    }
   }
  }
 ],
 "metadata": {
  "kernelspec": {
   "display_name": "PyCharm (TopicDetection)",
   "language": "python",
   "name": "pycharm-ea0bb772"
  },
  "language_info": {
   "codemirror_mode": {
    "name": "ipython",
    "version": 2
   },
   "file_extension": ".py",
   "mimetype": "text/x-python",
   "name": "python",
   "nbconvert_exporter": "python",
   "pygments_lexer": "ipython2",
   "version": "2.7.6"
  }
 },
 "nbformat": 4,
 "nbformat_minor": 0
}